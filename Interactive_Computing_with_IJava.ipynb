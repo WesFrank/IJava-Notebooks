{
 "cells": [
  {
   "cell_type": "markdown",
   "id": "b361dcb0",
   "metadata": {},
   "source": [
    "# PROG6112: Java as an Object Oriented Programming Language\n",
    "### August 2023\n",
    "### Lambda"
   ]
  },
  {
   "cell_type": "markdown",
   "id": "d9a0118f",
   "metadata": {},
   "source": [
    "# Interactive Computing with IJava\n",
    "\n",
    "[Documentation](https://github.com/SpencerPark/IJava)"
   ]
  },
  {
   "cell_type": "markdown",
   "id": "c88b5259",
   "metadata": {},
   "source": [
    "# Table of Contents\n",
    "\n",
    "* [0. JRE](#0.-JRE)\n",
    "\n",
    "* [1. Basic File Handling](#1.-Basic-File-Handling)\n",
    "    * [1.1 Writing](#1.1-Writing)\n",
    "    * [1.2 Reading](#1.2-Reading)\n",
    "\n",
    "* [2. Shell](#2.-Shell)\n",
    "    * [2.1 System.getProperties()](#2.1-System.getProperties())\n",
    "\t* [2.2 Runtime.getRuntime.exec()](#2.2-Runtime.getRuntime.exec())\n",
    "    * [2.3 ProcessBuilder.start()](#2.3-ProcessBuilder.start())\n",
    "    * [2.4 Compilation](#2.4-Compilation)\n",
    "    * [2.5 Running the Program](#2.5-Running-the-Program)\n",
    "\n",
    "* [3. Mathematics](#3.-Mathematics)\n",
    "\t* [3.1 Maven Build Tools](#3.1-Maven-Build-Tools)\n",
    "    * [3.2 Examples](#3.2-Examples)\n",
    "        * [3.2.1 Example](#3.2.1-Example)\n",
    "        * [3.2.2 Example](#3.2.2-Example)\n",
    "        * [3.2.3 Example](#3.2.3-Example)\n",
    "        * [3.2.4 Example](#3.2.4-Example)\n",
    "    \n",
    "* [4. XCharts](#4.-XCharts)\n",
    "\t* [4.1 Examples](#4.1-Examples)\n",
    "        * [4.1.1 Example](#4.1.1-Example)\n",
    "        * [4.1.2 Example](#4.1.2-Example)\n",
    "        * [4.1.3 Example](#4.1.3-Example)\n",
    "        \n",
    "* [5. Packages, CLASSPATH and .jar Files](#5.-Packages,-CLASSPATH-and-.jar-Files)\n",
    "    * [5.1 Packages](#5.1-Packages)\n",
    "    * [5.2 CLASSPATH](#5.2-CLASSPATH)\n",
    "    * [5.3 .jar Files](#5.3-.jar-Files)\n",
    "    \n",
    "* [6. GUI](#6.-GUI)\n",
    "    * [6.1 Swing](#6.1-Swing)\n",
    "    * [6.2 JavaFX](#6.2-JavaFX)\n",
    "    "
   ]
  },
  {
   "cell_type": "markdown",
   "id": "cf026366",
   "metadata": {},
   "source": [
    "# 0. JRE\n",
    "\n",
    "The Java Runtime Environment (JRE) is a software layer that runs on top of a computer’s OS and provides the class libraries as well as other resources that a specific Java program requires to run. Classes are often grouped into packages, and jar (Java Archive) files. More detail about this later ..."
   ]
  },
  {
   "cell_type": "markdown",
   "id": "c1c726bf",
   "metadata": {},
   "source": [
    "# 1. Basic File Handling"
   ]
  },
  {
   "cell_type": "markdown",
   "id": "7bce3c28",
   "metadata": {},
   "source": [
    "Using the java.io package, we can manipulate files.\n",
    "\n",
    "io provides for system input and output through data streams, serialization and the file system.\n",
    "\n",
    "This is not a detailed discussion about java.io, but only serves as an introduction to interactive computing with IJava."
   ]
  },
  {
   "cell_type": "markdown",
   "id": "3e649548",
   "metadata": {},
   "source": [
    "## 1.1 Writing"
   ]
  },
  {
   "cell_type": "markdown",
   "id": "8b5ef6b0",
   "metadata": {},
   "source": [
    "From the `java.io.FileWriter` class, we can use the <code>write()</code> method to write new files from inside this jupyter notebook"
   ]
  },
  {
   "cell_type": "code",
   "execution_count": null,
   "id": "0937ff17",
   "metadata": {
    "vscode": {
     "languageId": "java"
    }
   },
   "outputs": [],
   "source": [
    "FileWriter writer = new FileWriter(\"textfile.txt\");\n",
    "\n",
    "writer.write(\"This is a new text file - Check the directory in which this notebook file lives\");\n",
    "writer.close();"
   ]
  },
  {
   "cell_type": "markdown",
   "id": "2699fcc3",
   "metadata": {},
   "source": [
    "We can also specify the output directory by updating the parameter passed to the <code>writer()</code> method.\n",
    "\n",
    "We will use an absolute path - be sure to escape the backslash character \\ by using a double backslash \\\\\\"
   ]
  },
  {
   "cell_type": "code",
   "execution_count": null,
   "id": "a76cc910",
   "metadata": {
    "vscode": {
     "languageId": "java"
    }
   },
   "outputs": [],
   "source": [
    "FileWriter writer = new FileWriter(\"C:\\\\Users\\\\<Username>\\\\Desktop\\\\textfile.txt\");\n",
    "\n",
    "writer.write(\"This is a new text file - Check on your PC desktop\");\n",
    "writer.close();"
   ]
  },
  {
   "cell_type": "markdown",
   "id": "e36fb1ce",
   "metadata": {},
   "source": [
    "We could also get the current working directory (using the <code>System.getProperty()</code> method) in which this notebook lives to write the file there or navigate to any subdirectories that exist in this folder - A directory must exits beforehand, else we will get an Exception (\"error\")."
   ]
  },
  {
   "cell_type": "code",
   "execution_count": null,
   "id": "65425f9f",
   "metadata": {
    "vscode": {
     "languageId": "java"
    }
   },
   "outputs": [],
   "source": [
    "String path = System.getProperty(\"user.dir\");\n",
    "\n",
    "path;"
   ]
  },
  {
   "cell_type": "code",
   "execution_count": null,
   "id": "c017a6ea",
   "metadata": {
    "vscode": {
     "languageId": "java"
    }
   },
   "outputs": [],
   "source": [
    "// This code will overwrite the file in the directory of this notebook, if it exists\n",
    "String fullPath = System.getProperty(\"user.dir\")+ \"\\\\textfile.txt\";\n",
    "    \n",
    "FileWriter writer = new FileWriter(fullPath);\n",
    "\n",
    "writer.write(\"This is a new text file - Check inside the directory in which this file lives\");\n",
    "writer.close();"
   ]
  },
  {
   "cell_type": "markdown",
   "id": "7711d61b",
   "metadata": {},
   "source": [
    "Let us use the technique described above for writing to files, to create a .java file in the current directory.\n",
    "\n",
    "First, let's write some java code in a multi-line String variable, so it would be easier to format our code and make it look pretty:"
   ]
  },
  {
   "cell_type": "code",
   "execution_count": null,
   "id": "9c1eb9ea",
   "metadata": {
    "vscode": {
     "languageId": "java"
    }
   },
   "outputs": [],
   "source": [
    "String code =\n",
    "    // Below is a multi-line comment\n",
    "    \"\"\"\n",
    "        // The content that will be written to the file starts here\n",
    "        public class Class {\n",
    "            public static void main(String[] args) {\n",
    "                System.out.println(\n",
    "                      \"This java code will be written to a file \\\\n\"\n",
    "                    + \"Check the directory in which this notebook lives\"\n",
    "                );\n",
    "            }\n",
    "        }\n",
    "        // We will use java, to write a java file - Cool!\n",
    "    \"\"\";"
   ]
  },
  {
   "cell_type": "code",
   "execution_count": null,
   "id": "eace5a6a",
   "metadata": {
    "vscode": {
     "languageId": "java"
    }
   },
   "outputs": [],
   "source": [
    "code;"
   ]
  },
  {
   "cell_type": "code",
   "execution_count": null,
   "id": "fb2ec523",
   "metadata": {
    "vscode": {
     "languageId": "java"
    }
   },
   "outputs": [],
   "source": [
    "String fullPath = System.getProperty(\"user.dir\")+ \"\\\\Class.java\";\n",
    "    \n",
    "FileWriter writer = new FileWriter(fullPath);\n",
    "\n",
    "writer.write(code);\n",
    "writer.close();"
   ]
  },
  {
   "cell_type": "markdown",
   "id": "9d56bdc9",
   "metadata": {},
   "source": [
    "## 1.2 Reading"
   ]
  },
  {
   "cell_type": "markdown",
   "id": "1c5c1ae5",
   "metadata": {},
   "source": [
    "Below we have sample code for reading data from a text file inside the current directory into the IJava Interactive Notebook environment:"
   ]
  },
  {
   "cell_type": "code",
   "execution_count": null,
   "id": "aa753931",
   "metadata": {
    "vscode": {
     "languageId": "java"
    }
   },
   "outputs": [],
   "source": [
    "FileReader reader = new FileReader(\"textfile.txt\");\n",
    "    \n",
    "int data = reader.read();\n",
    "\n",
    "while (data != -1) {\n",
    "\n",
    "    System.out.print((char)data);\n",
    "\n",
    "    data = reader.read();\n",
    "}\n",
    "\n",
    "reader.close();"
   ]
  },
  {
   "cell_type": "markdown",
   "id": "59a625a2",
   "metadata": {},
   "source": [
    "Let's read data from the text file created in the directory of this notebook.\n",
    "\n",
    "We will, once again, require the path to the current directory, as in the previou section."
   ]
  },
  {
   "cell_type": "code",
   "execution_count": null,
   "id": "eef0e1dc",
   "metadata": {
    "vscode": {
     "languageId": "java"
    }
   },
   "outputs": [],
   "source": [
    "String fullPath = System.getProperty(\"user.dir\")+ \"\\\\textfile.txt\";\n",
    "\n",
    "fullPath;"
   ]
  },
  {
   "cell_type": "code",
   "execution_count": null,
   "id": "b39a591b",
   "metadata": {
    "vscode": {
     "languageId": "java"
    }
   },
   "outputs": [],
   "source": [
    "String fullPath = System.getProperty(\"user.dir\")+ \"\\\\textfile.txt\";\n",
    "\n",
    "FileReader reader = new FileReader(fullPath);\n",
    "\n",
    "int data = reader.read();\n",
    "\n",
    "while (data != -1) {\n",
    "\n",
    "    System.out.print((char)data);\n",
    "\n",
    "    data = reader.read();\n",
    "}\n",
    "\n",
    "reader.close();"
   ]
  },
  {
   "cell_type": "markdown",
   "id": "d44ba5a7",
   "metadata": {},
   "source": [
    "Let's also read the data from the .java file that we created before."
   ]
  },
  {
   "cell_type": "code",
   "execution_count": null,
   "id": "86cef5aa",
   "metadata": {
    "vscode": {
     "languageId": "java"
    }
   },
   "outputs": [],
   "source": [
    "String fullPath = System.getProperty(\"user.dir\")+ \"\\\\Class.java\";\n",
    "\n",
    "FileReader reader = new FileReader(fullPath);\n",
    "\n",
    "int data = reader.read();\n",
    "\n",
    "while (data != -1) {\n",
    "\n",
    "    System.out.print((char)data);\n",
    "\n",
    "    data = reader.read();\n",
    "}\n",
    "\n",
    "reader.close();"
   ]
  },
  {
   "cell_type": "markdown",
   "id": "bd1285cc",
   "metadata": {},
   "source": [
    "# 2. Shell"
   ]
  },
  {
   "cell_type": "markdown",
   "id": "ad79d7b6",
   "metadata": {},
   "source": [
    "The IJava Interactive Kernel is limited in its functionality (compared to .Net & IPython) in terms of line/cell magic commands for performing tasks outside of the IJava Interactive Notebook environment. We are pretty much limited to the facilities offered by `java.lang`, `java.io`, etc..."
   ]
  },
  {
   "cell_type": "markdown",
   "id": "9fcbb385",
   "metadata": {},
   "source": [
    "Luckily, there are some ways around this limitation."
   ]
  },
  {
   "cell_type": "markdown",
   "id": "3098b87a",
   "metadata": {},
   "source": [
    "One way in which we could amend this shortcoming is to define our own IJava line/cell magic commands. This is beyond the scope of the course, but [here](https://medium.com/@gmsharpe/weave-your-own-magic-for-a-jupyter-java-kernel-c31af7c84149) is an article for the interested reader."
   ]
  },
  {
   "cell_type": "markdown",
   "id": "cdcde5b5",
   "metadata": {},
   "source": [
    "Another way in which we could overcome this difficulty, is to use the facilities from the `java.lang` & `java.io` packages in a clever way, similar to the way we used it for [File Handling](#1.-File-Handling) to interact with the shell from the IJava Interactive Jupyter Notebook Kernel - [Interacting with Shell](https://www.geeksforgeeks.org/how-to-execute-native-shell-commands-from-java-program/)"
   ]
  },
  {
   "cell_type": "markdown",
   "id": "64aba1e0",
   "metadata": {},
   "source": [
    "## 2.1 System.getProperties()"
   ]
  },
  {
   "cell_type": "markdown",
   "id": "61b2b8a9",
   "metadata": {},
   "source": [
    "The first thing we ought to do is to determine the OS, since Windows, Linux and MacOS interact differently with the shell."
   ]
  },
  {
   "cell_type": "markdown",
   "id": "906c7892",
   "metadata": {},
   "source": [
    "We could use the below command and look for `\"os.name=Windows 10\"` from the result, but this is cumbersome."
   ]
  },
  {
   "cell_type": "code",
   "execution_count": null,
   "id": "d2f734ec",
   "metadata": {
    "vscode": {
     "languageId": "java"
    }
   },
   "outputs": [],
   "source": [
    "System.getProperties();"
   ]
  },
  {
   "cell_type": "markdown",
   "id": "311a1e5b",
   "metadata": {},
   "source": [
    "The above is nearly unreadable if you don't know what you are looking for; Let's list these inseated by refining our command:"
   ]
  },
  {
   "cell_type": "code",
   "execution_count": null,
   "id": "3198511d",
   "metadata": {
    "vscode": {
     "languageId": "java"
    }
   },
   "outputs": [],
   "source": [
    "System.getProperties().list(System.out);"
   ]
  },
  {
   "cell_type": "markdown",
   "id": "01f6dd95",
   "metadata": {},
   "source": [
    "The above output looks a lot better, but if we already know that we are looking for the property `\"os.name\"`, then we can write a test to return a boolean value:"
   ]
  },
  {
   "cell_type": "code",
   "execution_count": null,
   "id": "d82b32be",
   "metadata": {
    "vscode": {
     "languageId": "java"
    }
   },
   "outputs": [],
   "source": [
    "// All we really needed to do is check what operating system we are using;\n",
    "// So a simpler way to do this would be to use the line of code below;\n",
    "\n",
    "boolean isWindows = System.getProperty(\"os.name\").toLowerCase().startsWith(\"windows\");\n",
    "\n",
    "isWindows;\n",
    "\n",
    "// If you are using a MacOS or Linux Machine, the output will return \"false\",\n",
    "// unless the parameter of the startsWith() method is updated appropriately.\n",
    "// The code in the next section has only been tested on a Windows Machine."
   ]
  },
  {
   "cell_type": "markdown",
   "id": "1a06de0c",
   "metadata": {},
   "source": [
    "## 2.2 Runtime.getRuntime.exec()"
   ]
  },
  {
   "cell_type": "markdown",
   "id": "f72f63b2",
   "metadata": {},
   "source": [
    "In this section we discuss the <code>Runtime.getRuntime.exec()</code> method.\n",
    "\n",
    "The documentation for the various classes used in the script below are given in the hyperlinks:\n",
    "\n",
    "1) [Runtime](https://docs.oracle.com/javase/8/docs/api/java/lang/Runtime.html)\n",
    "2) [cmd.exe](https://learn.microsoft.com/en-us/windows-server/administration/windows-commands/cmd)\n",
    "3) [Process](https://docs.oracle.com/javase/8/docs/api/java/lang/Process.html)\n",
    "4) [InputStreamReader](https://docs.oracle.com/javase/8/docs/api/java/io/InputStreamReader.html)\n",
    "5) [BufferedReader](https://docs.oracle.com/javase/8/docs/api/java/io/BufferedReader.html)"
   ]
  },
  {
   "cell_type": "code",
   "execution_count": null,
   "id": "229f1965",
   "metadata": {
    "vscode": {
     "languageId": "java"
    }
   },
   "outputs": [],
   "source": [
    "// Run a Windows shell command using the RunTime class\n",
    "import java.io.BufferedReader;\n",
    "import java.io.InputStreamReader;\n",
    "\n",
    "Process process = Runtime.getRuntime().exec(\"ls -l\");\n",
    "\n",
    "InputStream inputStream = process.getInputStream();\n",
    "\n",
    "InputStreamReader inputStreamReader = new InputStreamReader(inputStream);\n",
    "\n",
    "StringBuilder output = new StringBuilder();\n",
    "\n",
    "BufferedReader reader = new BufferedReader(inputStreamReader);\n",
    "\n",
    "String line;\n",
    "\n",
    "while ((line = reader.readLine()) != null) {\n",
    "    output.append(line + \"\\n\");\n",
    "}\n",
    "\n",
    "System.out.println(output);"
   ]
  },
  {
   "cell_type": "markdown",
   "id": "1e664b1b",
   "metadata": {},
   "source": [
    "We can also create an array of Strings to pass in as arguments to the <code>Runtime.getRuntime.exec()</code> method.\n",
    "\n",
    "This will executes the specified command and arguments in a separate process."
   ]
  },
  {
   "cell_type": "code",
   "execution_count": 1,
   "id": "b1c40edd",
   "metadata": {
    "vscode": {
     "languageId": "java"
    }
   },
   "outputs": [
    {
     "name": "stdout",
     "output_type": "stream",
     "text": [
      "-rw-r--r-- 1 Lambda 197121 10182 Jul 29 18:14 00.1_Introduction.ipynb\n",
      "-rw-r--r-- 1 Lambda 197121 94139 Jul 29 18:13 00.2_Interactive_Computing_with_IJava.ipynb\n",
      "-rw-r--r-- 1 Lambda 197121 25024 Jul 29 18:13 00.3_Java_with_Python_Kernel_using_Bash.ipynb\n",
      "-rw-r--r-- 1 Lambda 197121 57260 Jul 30 13:07 01.1_Sorting_Algorithms_Bubble_Sort.ipynb\n",
      "-rw-r--r-- 1 Lambda 197121 23939 Jul 30 13:10 01.2_Sorting_Algorithms_Insertion_Sort.ipynb\n",
      "-rw-r--r-- 1 Lambda 197121 47780 Aug 13 00:40 01.3_Multi-Dimensional_Arrays.ipynb\n",
      "-rw-r--r-- 1 Lambda 197121 41826 Aug 21 11:08 01.4_ArrayList_and_Enum_Enum.ipynb\n",
      "-rw-r--r-- 1 Lambda 197121 49726 Aug 23 21:10 01.5_ArrayList_and_Enum_ArrayList.ipynb\n",
      "-rw-r--r-- 1 Lambda 197121 39495 Aug 23 18:03 02.1_Introduction_to_OOP.ipynb\n",
      "-rw-r--r-- 1 Lambda 197121 45817 Aug 27 22:53 02.2_Introduction_to_OOP_Polymorphism-Inheritance-Overloading-and-Overriding.ipynb\n",
      "-rw-r--r-- 1 Lambda 197121  5164 Sep 17 19:38 03.1_Advanced_Inheritance_Concepts_and_Exception_Handling.ipynb\n",
      "-rw-r--r-- 1 Lambda 197121  3881 Sep 17 19:38 03.2_Advanced_Inheritance_Concepts_and_Exception_Handling_Abstract_Classes.ipynb\n",
      "-rw-r--r-- 1 Lambda 197121  6133 Sep 17 18:45 04.1_Exception_Handling.ipynb\n",
      "-rw-r--r-- 1 Lambda 197121  4128 Sep 17 18:51 05.1_File-Handling.ipynb\n",
      "drwxr-xr-x 1 Lambda 197121     0 Sep 30 12:20 06_Introduction_to_Swing_Components_and_Advanced_Graphical_User_Interface_Topics\n",
      "drwxr-xr-x 1 Lambda 197121     0 Sep 30 12:20 Images\n",
      "drwxr-xr-x 1 Lambda 197121     0 Sep 30 12:20 QR\n"
     ]
    }
   ],
   "source": [
    "// Run a Windows shell command using the RunTime class\n",
    "\n",
    "// Import appropriate libraries\n",
    "import java.io.BufferedReader;\n",
    "import java.io.InputStreamReader;\n",
    "\n",
    "// Documentation for cmd.exe\n",
    "// https://learn.microsoft.com/en-us/windows-server/administration/windows-commands/cmd\n",
    "\n",
    "// List of commands to be executed in the shell\n",
    "String[] builderArray = new String[] {\"cmd.exe\", \"/c\", \"ls -l\"}; // Passing arguments to the command() method\n",
    "// \"cmd.exe\" launches a new instance of the shell/terminal\n",
    "// \"/C\" is a switch/flag which tells the cmd.exe instance to carry out the\n",
    "//      command specified in the string that follow it and then terminate.\n",
    "// \"ls -l\" lists long version of all files in current directory\n",
    "\n",
    "// Documentation for Process\n",
    "// https://docs.oracle.com/javase/8/docs/api/java/lang/Process.html\n",
    "\n",
    "// Execute commands using the Runtime.getRuntime.exec() method of the Runtime class\n",
    "// The getRuntime() method returns the runtime object associated with the current Java application\n",
    "\n",
    "Process process = Runtime.getRuntime().exec(builderArray);\n",
    "// The Process class is abstract and therefore\n",
    "// cannot be instantiated to create an object.\n",
    "//\n",
    "// To access the Process class, it must be inherited by another\n",
    "// class,in this case, the Runtime class, since both extend\n",
    "// to the Object class\n",
    "\n",
    "// getInputStream() is a method of the Process class which returns\n",
    "// the input stream connected to the normal output of the subprocess.\n",
    "InputStream inputStream = process.getInputStream();\n",
    "\n",
    "// Documentation for InputStreamReader\n",
    "// https://docs.oracle.com/javase/8/docs/api/java/io/InputStreamReader.html\n",
    "\n",
    "// Documentation for InputStreamReader\n",
    "// https://docs.oracle.com/javase/8/docs/api/java/io/InputStreamReader.html\n",
    "\n",
    "// An InputStreamReader is a bridge from byte streams to character streams:\n",
    "// It reads bytes and decodes them into characters using a specified charset.\n",
    "InputStreamReader inputStreamReader = new InputStreamReader(inputStream);\n",
    "\n",
    "// Documentation for BufferedReader\n",
    "//https://docs.oracle.com/javase/8/docs/api/java/io/BufferedReader.html\n",
    "\n",
    "// To read the output list\n",
    "// Reads text from a character-input stream, buffering characters\n",
    "// so as to provide for the efficient reading of characters, arrays, and lines\n",
    "BufferedReader reader = new BufferedReader(inputStreamReader);\n",
    "\n",
    "// The readLine() method reads a line of text.\n",
    "// A line is considered to be terminated when it encounters\n",
    "// any one of \"\\n\" (line feed), \"\\r\" (carriage return),\n",
    "// or \"\\r\\n\"\n",
    "\n",
    "String line = reader.readLine();\n",
    "\n",
    "// While there is a line to read from the BufferedReader object reader\n",
    "// read lines from the BufferedReader object using the readLine() method\n",
    "// and print the results in a line to the console using System.out\n",
    "while (reader.ready()) {\n",
    "    //  A buffered character stream is ready\n",
    "    // if the buffer is not empty, or\n",
    "    // if the underlying character stream is ready.\n",
    "    System.out.println(reader.readLine());\n",
    "}"
   ]
  },
  {
   "cell_type": "markdown",
   "id": "0be6fc8c",
   "metadata": {},
   "source": [
    "The below code implements a `try-catch block`, which is best practice when dealing with processes that may throw exceptions."
   ]
  },
  {
   "cell_type": "code",
   "execution_count": 2,
   "id": "b1a9b4ef",
   "metadata": {
    "vscode": {
     "languageId": "java"
    }
   },
   "outputs": [
    {
     "name": "stdout",
     "output_type": "stream",
     "text": [
      "-rw-r--r-- 1 Lambda 197121 10182 Jul 29 18:14 00.1_Introduction.ipynb\n",
      "-rw-r--r-- 1 Lambda 197121 94139 Jul 29 18:13 00.2_Interactive_Computing_with_IJava.ipynb\n",
      "-rw-r--r-- 1 Lambda 197121 25024 Jul 29 18:13 00.3_Java_with_Python_Kernel_using_Bash.ipynb\n",
      "-rw-r--r-- 1 Lambda 197121 57260 Jul 30 13:07 01.1_Sorting_Algorithms_Bubble_Sort.ipynb\n",
      "-rw-r--r-- 1 Lambda 197121 23939 Jul 30 13:10 01.2_Sorting_Algorithms_Insertion_Sort.ipynb\n",
      "-rw-r--r-- 1 Lambda 197121 47780 Aug 13 00:40 01.3_Multi-Dimensional_Arrays.ipynb\n",
      "-rw-r--r-- 1 Lambda 197121 41826 Aug 21 11:08 01.4_ArrayList_and_Enum_Enum.ipynb\n",
      "-rw-r--r-- 1 Lambda 197121 49726 Aug 23 21:10 01.5_ArrayList_and_Enum_ArrayList.ipynb\n",
      "-rw-r--r-- 1 Lambda 197121 39495 Aug 23 18:03 02.1_Introduction_to_OOP.ipynb\n",
      "-rw-r--r-- 1 Lambda 197121 45817 Aug 27 22:53 02.2_Introduction_to_OOP_Polymorphism-Inheritance-Overloading-and-Overriding.ipynb\n",
      "-rw-r--r-- 1 Lambda 197121  5164 Sep 17 19:38 03.1_Advanced_Inheritance_Concepts_and_Exception_Handling.ipynb\n",
      "-rw-r--r-- 1 Lambda 197121  3881 Sep 17 19:38 03.2_Advanced_Inheritance_Concepts_and_Exception_Handling_Abstract_Classes.ipynb\n",
      "-rw-r--r-- 1 Lambda 197121  6133 Sep 17 18:45 04.1_Exception_Handling.ipynb\n",
      "-rw-r--r-- 1 Lambda 197121  4128 Sep 17 18:51 05.1_File-Handling.ipynb\n",
      "drwxr-xr-x 1 Lambda 197121     0 Sep 30 12:20 06_Introduction_to_Swing_Components_and_Advanced_Graphical_User_Interface_Topics\n",
      "drwxr-xr-x 1 Lambda 197121     0 Sep 30 12:20 Images\n",
      "drwxr-xr-x 1 Lambda 197121     0 Sep 30 12:20 QR\n",
      "\n",
      "Exited with error code : 0\n"
     ]
    }
   ],
   "source": [
    "// Run a simple Windows shell command\n",
    "import java.io.BufferedReader;\n",
    "import java.io.IOException;\n",
    "import java.io.InputStreamReader;\n",
    "\n",
    "// Wrap \"unsafe\" code in a try-catch block to catch and handle exceptions\n",
    "try {\n",
    "    Process process = Runtime.getRuntime().exec(\"ls -l\");\n",
    "\n",
    "    InputStream inputStream = process.getInputStream();\n",
    "    InputStreamReader inputStreamReader = new InputStreamReader(inputStream);\n",
    "\n",
    "    StringBuilder output = new StringBuilder();\n",
    "    BufferedReader reader = new BufferedReader(inputStreamReader);\n",
    "\n",
    "    String line = reader.readLine();    \n",
    "    while (reader.ready()) {\n",
    "        System.out.println(reader.readLine());\n",
    "    }\n",
    "\n",
    "    int exitCode = process.waitFor();\n",
    "    System.out.println(\"\\nExited with error code : \" + exitCode);\n",
    "}\n",
    "catch (IOException e) {\n",
    "    e.printStackTrace();\n",
    "}\n",
    "catch (InterruptedException e) {\n",
    "    e.printStackTrace();\n",
    "}"
   ]
  },
  {
   "cell_type": "markdown",
   "id": "efe2522f",
   "metadata": {},
   "source": [
    "## 2.3 ProcessBuilder.start()"
   ]
  },
  {
   "cell_type": "markdown",
   "id": "5813838e",
   "metadata": {},
   "source": [
    "In this section we discuss the <code>ProcessBuilder.start()</code> method as an alternative to the [2.2 Runtime.getRuntime.exec()](#2.2-Runtime.getRuntime.exec()) method.\n",
    "\n",
    "The documentation for the various classes used in the script below are given in the hyperlinks:\n",
    "\n",
    "1) [ProcessBuilder](https://docs.oracle.com/javase%2F7%2Fdocs%2Fapi%2F%2F/java/lang/ProcessBuilder.html)\n",
    "2) [cmd.exe](https://learn.microsoft.com/en-us/windows-server/administration/windows-commands/cmd)\n",
    "3) [Process](https://docs.oracle.com/javase/8/docs/api/java/lang/Process.html)\n",
    "4) [InputStreamReader](https://docs.oracle.com/javase/8/docs/api/java/io/InputStreamReader.html)\n",
    "5) [BufferedReader](https://docs.oracle.com/javase/8/docs/api/java/io/BufferedReader.html)"
   ]
  },
  {
   "cell_type": "code",
   "execution_count": 3,
   "id": "cd57e7f8",
   "metadata": {
    "vscode": {
     "languageId": "java"
    }
   },
   "outputs": [
    {
     "name": "stdout",
     "output_type": "stream",
     "text": [
      "-rw-r--r-- 1 Lambda 197121 10182 Jul 29 18:14 00.1_Introduction.ipynb\n",
      "-rw-r--r-- 1 Lambda 197121 94139 Jul 29 18:13 00.2_Interactive_Computing_with_IJava.ipynb\n",
      "-rw-r--r-- 1 Lambda 197121 25024 Jul 29 18:13 00.3_Java_with_Python_Kernel_using_Bash.ipynb\n",
      "-rw-r--r-- 1 Lambda 197121 57260 Jul 30 13:07 01.1_Sorting_Algorithms_Bubble_Sort.ipynb\n",
      "-rw-r--r-- 1 Lambda 197121 23939 Jul 30 13:10 01.2_Sorting_Algorithms_Insertion_Sort.ipynb\n",
      "-rw-r--r-- 1 Lambda 197121 47780 Aug 13 00:40 01.3_Multi-Dimensional_Arrays.ipynb\n",
      "-rw-r--r-- 1 Lambda 197121 41826 Aug 21 11:08 01.4_ArrayList_and_Enum_Enum.ipynb\n",
      "-rw-r--r-- 1 Lambda 197121 49726 Aug 23 21:10 01.5_ArrayList_and_Enum_ArrayList.ipynb\n",
      "-rw-r--r-- 1 Lambda 197121 39495 Aug 23 18:03 02.1_Introduction_to_OOP.ipynb\n",
      "-rw-r--r-- 1 Lambda 197121 45817 Aug 27 22:53 02.2_Introduction_to_OOP_Polymorphism-Inheritance-Overloading-and-Overriding.ipynb\n",
      "-rw-r--r-- 1 Lambda 197121  5164 Sep 17 19:38 03.1_Advanced_Inheritance_Concepts_and_Exception_Handling.ipynb\n",
      "-rw-r--r-- 1 Lambda 197121  3881 Sep 17 19:38 03.2_Advanced_Inheritance_Concepts_and_Exception_Handling_Abstract_Classes.ipynb\n",
      "-rw-r--r-- 1 Lambda 197121  6133 Sep 17 18:45 04.1_Exception_Handling.ipynb\n",
      "-rw-r--r-- 1 Lambda 197121  4128 Sep 17 18:51 05.1_File-Handling.ipynb\n",
      "drwxr-xr-x 1 Lambda 197121     0 Sep 30 12:20 06_Introduction_to_Swing_Components_and_Advanced_Graphical_User_Interface_Topics\n",
      "drwxr-xr-x 1 Lambda 197121     0 Sep 30 12:20 Images\n",
      "drwxr-xr-x 1 Lambda 197121     0 Sep 30 12:20 QR\n"
     ]
    }
   ],
   "source": [
    "// Run a Windows shell command using the ProcessBuilder class\n",
    "\n",
    "import java.io.BufferedReader;\n",
    "import java.io.InputStreamReader;\n",
    "\n",
    "// Documentation for ProcessBuilder\n",
    "//https://docs.oracle.com/javase/8/docs/api/java/lang/ProcessBuilder.html\n",
    "\n",
    "// Instantiate the ProcessBuilder class by creating a new object instance\n",
    "ProcessBuilder processBuilder = new ProcessBuilder();\n",
    "processBuilder.command(\"cmd.exe\", \"/C\", \"ls -l\");\n",
    "\n",
    "Process process = processBuilder.start();\n",
    "// The Process class is abstract and therefore\n",
    "// cannot be instantiated to create an object.\n",
    "//\n",
    "// To access the Process class, it must be inherited by another\n",
    "// class,in this case, the ProcessBuilder class, since both extend\n",
    "// to the Object class\n",
    "\n",
    "InputStream inputStream = process.getInputStream();\n",
    "InputStreamReader inputStreamReader = new InputStreamReader(inputStream);\n",
    "\n",
    "BufferedReader reader = new BufferedReader(inputStreamReader);\n",
    "String line = reader.readLine();\n",
    "\n",
    "while (reader.ready()) {\n",
    "    System.out.println(reader.readLine());\n",
    "}"
   ]
  },
  {
   "cell_type": "markdown",
   "id": "0760a08a",
   "metadata": {},
   "source": [
    "The code in the cell below is practically the same as the code in the cell above, with slight modification to illustrate that the <code>ProcessBuilder.command()</code> method can accept a List of Strings <code>List\\<String\\></code>"
   ]
  },
  {
   "cell_type": "code",
   "execution_count": 4,
   "id": "620c6747",
   "metadata": {
    "vscode": {
     "languageId": "java"
    }
   },
   "outputs": [
    {
     "name": "stdout",
     "output_type": "stream",
     "text": [
      "-rw-r--r-- 1 Lambda 197121 10182 Jul 29 18:14 00.1_Introduction.ipynb\n",
      "-rw-r--r-- 1 Lambda 197121 94139 Jul 29 18:13 00.2_Interactive_Computing_with_IJava.ipynb\n",
      "-rw-r--r-- 1 Lambda 197121 25024 Jul 29 18:13 00.3_Java_with_Python_Kernel_using_Bash.ipynb\n",
      "-rw-r--r-- 1 Lambda 197121 57260 Jul 30 13:07 01.1_Sorting_Algorithms_Bubble_Sort.ipynb\n",
      "-rw-r--r-- 1 Lambda 197121 23939 Jul 30 13:10 01.2_Sorting_Algorithms_Insertion_Sort.ipynb\n",
      "-rw-r--r-- 1 Lambda 197121 47780 Aug 13 00:40 01.3_Multi-Dimensional_Arrays.ipynb\n",
      "-rw-r--r-- 1 Lambda 197121 41826 Aug 21 11:08 01.4_ArrayList_and_Enum_Enum.ipynb\n",
      "-rw-r--r-- 1 Lambda 197121 49726 Aug 23 21:10 01.5_ArrayList_and_Enum_ArrayList.ipynb\n",
      "-rw-r--r-- 1 Lambda 197121 39495 Aug 23 18:03 02.1_Introduction_to_OOP.ipynb\n",
      "-rw-r--r-- 1 Lambda 197121 45817 Aug 27 22:53 02.2_Introduction_to_OOP_Polymorphism-Inheritance-Overloading-and-Overriding.ipynb\n",
      "-rw-r--r-- 1 Lambda 197121  5164 Sep 17 19:38 03.1_Advanced_Inheritance_Concepts_and_Exception_Handling.ipynb\n",
      "-rw-r--r-- 1 Lambda 197121  3881 Sep 17 19:38 03.2_Advanced_Inheritance_Concepts_and_Exception_Handling_Abstract_Classes.ipynb\n",
      "-rw-r--r-- 1 Lambda 197121  6133 Sep 17 18:45 04.1_Exception_Handling.ipynb\n",
      "-rw-r--r-- 1 Lambda 197121  4128 Sep 17 18:51 05.1_File-Handling.ipynb\n",
      "drwxr-xr-x 1 Lambda 197121     0 Sep 30 12:20 06_Introduction_to_Swing_Components_and_Advanced_Graphical_User_Interface_Topics\n",
      "drwxr-xr-x 1 Lambda 197121     0 Sep 30 12:20 Images\n",
      "drwxr-xr-x 1 Lambda 197121     0 Sep 30 12:20 QR\n"
     ]
    }
   ],
   "source": [
    "import java.io.BufferedReader;\n",
    "import java.io.InputStreamReader;\n",
    "import java.util.ArrayList;\n",
    "import java.util.List;\n",
    "  \n",
    "ProcessBuilder processBuilder = new ProcessBuilder();\n",
    "\n",
    "List<String> builderList = new ArrayList<>();\n",
    "\n",
    "builderList.add(\"cmd.exe\");\n",
    "builderList.add(\"/C\");\n",
    "builderList.add(\"ls -l\");\n",
    "\n",
    "// Using the list, trigger the command\n",
    "processBuilder.command(builderList);\n",
    "Process process = processBuilder.start();\n",
    "\n",
    "InputStream inputStream = process.getInputStream();\n",
    "InputStreamReader inputStreamReader = new InputStreamReader(inputStream);\n",
    "\n",
    "BufferedReader reader = new BufferedReader(inputStreamReader);\n",
    "String line = reader.readLine();\n",
    "\n",
    "while (reader.ready()) {\n",
    "    System.out.println(reader.readLine());\n",
    "}"
   ]
  },
  {
   "cell_type": "markdown",
   "id": "36e17b83",
   "metadata": {},
   "source": [
    "The below code implements a `try-catch block`, which is best practice when dealing with processes that may throw exceptions."
   ]
  },
  {
   "cell_type": "code",
   "execution_count": 5,
   "id": "a799f878",
   "metadata": {
    "vscode": {
     "languageId": "java"
    }
   },
   "outputs": [
    {
     "name": "stdout",
     "output_type": "stream",
     "text": [
      "-rw-r--r-- 1 Lambda 197121 10182 Jul 29 18:14 00.1_Introduction.ipynb\n",
      "-rw-r--r-- 1 Lambda 197121 94139 Jul 29 18:13 00.2_Interactive_Computing_with_IJava.ipynb\n",
      "-rw-r--r-- 1 Lambda 197121 25024 Jul 29 18:13 00.3_Java_with_Python_Kernel_using_Bash.ipynb\n",
      "-rw-r--r-- 1 Lambda 197121 57260 Jul 30 13:07 01.1_Sorting_Algorithms_Bubble_Sort.ipynb\n",
      "-rw-r--r-- 1 Lambda 197121 23939 Jul 30 13:10 01.2_Sorting_Algorithms_Insertion_Sort.ipynb\n",
      "-rw-r--r-- 1 Lambda 197121 47780 Aug 13 00:40 01.3_Multi-Dimensional_Arrays.ipynb\n",
      "-rw-r--r-- 1 Lambda 197121 41826 Aug 21 11:08 01.4_ArrayList_and_Enum_Enum.ipynb\n",
      "-rw-r--r-- 1 Lambda 197121 49726 Aug 23 21:10 01.5_ArrayList_and_Enum_ArrayList.ipynb\n",
      "-rw-r--r-- 1 Lambda 197121 39495 Aug 23 18:03 02.1_Introduction_to_OOP.ipynb\n",
      "-rw-r--r-- 1 Lambda 197121 45817 Aug 27 22:53 02.2_Introduction_to_OOP_Polymorphism-Inheritance-Overloading-and-Overriding.ipynb\n",
      "-rw-r--r-- 1 Lambda 197121  5164 Sep 17 19:38 03.1_Advanced_Inheritance_Concepts_and_Exception_Handling.ipynb\n",
      "-rw-r--r-- 1 Lambda 197121  3881 Sep 17 19:38 03.2_Advanced_Inheritance_Concepts_and_Exception_Handling_Abstract_Classes.ipynb\n",
      "-rw-r--r-- 1 Lambda 197121  6133 Sep 17 18:45 04.1_Exception_Handling.ipynb\n",
      "-rw-r--r-- 1 Lambda 197121  4128 Sep 17 18:51 05.1_File-Handling.ipynb\n",
      "drwxr-xr-x 1 Lambda 197121     0 Sep 30 12:20 06_Introduction_to_Swing_Components_and_Advanced_Graphical_User_Interface_Topics\n",
      "drwxr-xr-x 1 Lambda 197121     0 Sep 30 12:20 Images\n",
      "drwxr-xr-x 1 Lambda 197121     0 Sep 30 12:20 QR\n",
      "\n",
      "Exited with error code : 0\n"
     ]
    }
   ],
   "source": [
    "// Run a simple Windows shell command\n",
    "import java.io.BufferedReader;\n",
    "import java.io.IOException;\n",
    "import java.io.InputStreamReader;\n",
    "import java.util.ArrayList;\n",
    "import java.util.List;\n",
    "\n",
    "ProcessBuilder processBuilder = new ProcessBuilder();\n",
    "  \n",
    "List<String> builderList = new ArrayList<>();\n",
    "\n",
    "// add the commands to a list\n",
    "builderList.add(\"cmd.exe\");\n",
    "builderList.add(\"/C\");\n",
    "builderList.add(\"ls -l\");\n",
    "\n",
    "// Wrap \"unsafe\" code in a try-catch block to catch and handle exceptions\n",
    "try {\n",
    "    processBuilder.command(builderList);\n",
    "    Process process = processBuilder.start();\n",
    "\n",
    "    InputStream inputStream = process.getInputStream();\n",
    "    InputStreamReader inputStreamReader = new InputStreamReader(inputStream);\n",
    "\n",
    "    BufferedReader reader = new BufferedReader(inputStreamReader);\n",
    "    String line = reader.readLine();\n",
    "\n",
    "    while (reader.ready()) {\n",
    "        System.out.println(reader.readLine());\n",
    "    }\n",
    "\n",
    "    int exitCode = process.waitFor();\n",
    "    System.out.println(\"\\nExited with error code : \" + exitCode);\n",
    "}\n",
    "catch (IOException e) {\n",
    "    e.printStackTrace();\n",
    "}\n",
    "catch (InterruptedException e) {\n",
    "    e.printStackTrace();\n",
    "}"
   ]
  },
  {
   "cell_type": "markdown",
   "id": "3f17d996",
   "metadata": {},
   "source": [
    "We've already seen how we can write (.java) files using java.\n",
    "\n",
    "Let's use the technique of interacting with the shell, to compile .java files to .class files"
   ]
  },
  {
   "cell_type": "markdown",
   "id": "f2a1333a",
   "metadata": {},
   "source": [
    "## 2.4 Compilation"
   ]
  },
  {
   "cell_type": "markdown",
   "id": "fc81f8c2",
   "metadata": {},
   "source": [
    "Compilation is the process that translates (human-readable) code written in one programming language (Java) called the source language, into another language (computer-executable-code) called the target language.\n",
    "\n",
    "More simply, it is the process of translating a high-level programming language to a low-level programming language to create an executable program.\n",
    "\n",
    "Java is a platform-independent language in which programs (written in .java files) are compiled to bytecode (.class files).\n",
    "\n",
    "This bytecode gets converted to machine code at runtime, i.e. when the program is started.\n",
    "\n",
    "An interpreter emulates the execution of bytecode instructions for the abstract/virtual machine on a specific physical machine."
   ]
  },
  {
   "cell_type": "markdown",
   "id": "f9086df7",
   "metadata": {},
   "source": [
    "### Example"
   ]
  },
  {
   "cell_type": "markdown",
   "id": "1675ccab",
   "metadata": {},
   "source": [
    "To compiling the Class.java file in the directory of this notebook, we need to run the below command in a shell:\n",
    "\n",
    "<code>C:\\> javac Class.java</code>\n",
    "\n",
    "Which will output a Class.class file to the directory - go check for yourself."
   ]
  },
  {
   "cell_type": "code",
   "execution_count": null,
   "id": "0c5d4858",
   "metadata": {
    "vscode": {
     "languageId": "java"
    }
   },
   "outputs": [],
   "source": [
    "import java.io.BufferedReader;\n",
    "import java.io.InputStreamReader;\n",
    "\n",
    "ProcessBuilder processBuilder = new ProcessBuilder();\n",
    "processBuilder.command(\"cmd.exe\", \"/C\", \"javac Class.java\");\n",
    "Process process = processBuilder.start();\n",
    "\n",
    "InputStream inputStream = process.getInputStream();\n",
    "InputStreamReader inputStreamReader = new InputStreamReader(inputStream);\n",
    "\n",
    "BufferedReader reader = new BufferedReader(inputStreamReader);\n",
    "String line = reader.readLine();\n",
    "\n",
    "while (reader.ready()) {\n",
    "    System.out.println(reader.readLine());\n",
    "}"
   ]
  },
  {
   "cell_type": "markdown",
   "id": "f7e4570c",
   "metadata": {},
   "source": [
    "As before, we can still specify the directory in which the .java file lives, using an absolute path:"
   ]
  },
  {
   "cell_type": "code",
   "execution_count": null,
   "id": "663c1149",
   "metadata": {
    "vscode": {
     "languageId": "java"
    }
   },
   "outputs": [],
   "source": [
    "String fullPath = System.getProperty(\"user.dir\")+ \"\\\\Class.java\";\n",
    "\n",
    "fullPath;"
   ]
  },
  {
   "cell_type": "code",
   "execution_count": null,
   "id": "564318be",
   "metadata": {
    "vscode": {
     "languageId": "java"
    }
   },
   "outputs": [],
   "source": [
    "import java.io.BufferedReader;\n",
    "import java.io.InputStreamReader;\n",
    "\n",
    "String fullPath = System.getProperty(\"user.dir\")+ \"\\\\Class.java\";\n",
    "\n",
    "ProcessBuilder processBuilder = new ProcessBuilder();\n",
    "processBuilder.command(\"cmd.exe\", \"/C\", \"javac\", fullPath);\n",
    "Process process = processBuilder.start();\n",
    "\n",
    "InputStream inputStream = process.getInputStream();\n",
    "InputStreamReader inputStreamReader = new InputStreamReader(inputStream);\n",
    "\n",
    "BufferedReader reader = new BufferedReader(inputStreamReader);\n",
    "String line = reader.readLine();\n",
    "\n",
    "while (reader.ready()) {\n",
    "    System.out.println(reader.readLine());\n",
    "}"
   ]
  },
  {
   "cell_type": "markdown",
   "id": "d081d666",
   "metadata": {},
   "source": [
    "## 2.5 Running the Program"
   ]
  },
  {
   "cell_type": "markdown",
   "id": "a7265d75",
   "metadata": {},
   "source": [
    "Now that we know how to interact with the shell, it is not difficult to compile .java files into .class bytecode files.\n",
    "\n",
    "Let's first check if our .class file exists, before running the program on it."
   ]
  },
  {
   "cell_type": "code",
   "execution_count": null,
   "id": "aff4f84b",
   "metadata": {
    "vscode": {
     "languageId": "java"
    }
   },
   "outputs": [],
   "source": [
    "import java.io.BufferedReader;\n",
    "import java.io.InputStreamReader;\n",
    "\n",
    "ProcessBuilder processBuilder = new ProcessBuilder();\n",
    "processBuilder.command(\"cmd.exe\", \"/C\", \"dir *.class\");\n",
    "Process process = processBuilder.start();\n",
    "\n",
    "InputStream inputStream = process.getInputStream();\n",
    "InputStreamReader inputStreamReader = new InputStreamReader(inputStream);\n",
    "\n",
    "BufferedReader reader = new BufferedReader(inputStreamReader);\n",
    "String line = reader.readLine();\n",
    "\n",
    "while (reader.ready()) {\n",
    "    System.out.println(reader.readLine());\n",
    "}"
   ]
  },
  {
   "cell_type": "markdown",
   "id": "0e0542ce",
   "metadata": {},
   "source": [
    "As can be seen from the InputStream above, the .class file exists in the directory of this notebook, unless weird changes have been made to this notebook.\n",
    "\n",
    "Now let's run the program using <code>C:\\> java Class</code>"
   ]
  },
  {
   "cell_type": "code",
   "execution_count": null,
   "id": "79c5be81",
   "metadata": {
    "vscode": {
     "languageId": "java"
    }
   },
   "outputs": [],
   "source": [
    "import java.io.BufferedReader;\n",
    "import java.io.InputStreamReader;\n",
    "\n",
    "ProcessBuilder processBuilder = new ProcessBuilder();\n",
    "processBuilder.command(\"cmd.exe\", \"/C\", \"java\", \"Class\");\n",
    "Process process = processBuilder.start();\n",
    "\n",
    "InputStream inputStream = process.getInputStream();\n",
    "InputStreamReader inputStreamReader = new InputStreamReader(inputStream);\n",
    "\n",
    "BufferedReader reader = new BufferedReader(inputStreamReader);\n",
    "\n",
    "String line;\n",
    "while ((line = reader.readLine()) != null) {\n",
    "    System.out.println(line);\n",
    "}"
   ]
  },
  {
   "cell_type": "markdown",
   "id": "4cf569ef",
   "metadata": {},
   "source": [
    "The result of our program appears above."
   ]
  },
  {
   "cell_type": "markdown",
   "id": "b48eb9ea",
   "metadata": {},
   "source": [
    "# 3. Mathematics"
   ]
  },
  {
   "cell_type": "markdown",
   "id": "c6e4d515",
   "metadata": {},
   "source": [
    "Mathematics is essential when it comes to building software, whether it be games, apps, systems, or even for the sake of writing more efficient code.\n",
    "\n",
    "We will encounter mathematics here-and-there, so be prepared to learn at least enough of it."
   ]
  },
  {
   "cell_type": "code",
   "execution_count": null,
   "id": "290d8bf4",
   "metadata": {
    "vscode": {
     "languageId": "java"
    }
   },
   "outputs": [],
   "source": [
    "Math.PI/4;"
   ]
  },
  {
   "cell_type": "code",
   "execution_count": null,
   "id": "cd1dfc91",
   "metadata": {
    "vscode": {
     "languageId": "java"
    }
   },
   "outputs": [],
   "source": [
    "Math.sin(Math.PI/4);"
   ]
  },
  {
   "cell_type": "code",
   "execution_count": null,
   "id": "f47801bc",
   "metadata": {
    "vscode": {
     "languageId": "java"
    }
   },
   "outputs": [],
   "source": [
    "Math.abs(-4)"
   ]
  },
  {
   "cell_type": "code",
   "execution_count": null,
   "id": "8814b3fd",
   "metadata": {
    "vscode": {
     "languageId": "java"
    }
   },
   "outputs": [],
   "source": [
    "double e = Math.exp(1);\n",
    "\n",
    "e;"
   ]
  },
  {
   "cell_type": "code",
   "execution_count": null,
   "id": "0ebf3f6c",
   "metadata": {
    "vscode": {
     "languageId": "java"
    }
   },
   "outputs": [],
   "source": [
    "Math.log(0);"
   ]
  },
  {
   "cell_type": "code",
   "execution_count": null,
   "id": "54ab03ac",
   "metadata": {
    "vscode": {
     "languageId": "java"
    }
   },
   "outputs": [],
   "source": [
    "Math.log(1); // The logaritm of 1 is 0 in any base"
   ]
  },
  {
   "cell_type": "code",
   "execution_count": null,
   "id": "d42fee07",
   "metadata": {
    "vscode": {
     "languageId": "java"
    }
   },
   "outputs": [],
   "source": [
    "Math.log(10); // The result clearly indicates that this is not base 10 logarithm"
   ]
  },
  {
   "cell_type": "code",
   "execution_count": null,
   "id": "7c691db1",
   "metadata": {
    "vscode": {
     "languageId": "java"
    }
   },
   "outputs": [],
   "source": [
    "Math.log(2); // The result clearly indicates that this is not base 2 logarithm either"
   ]
  },
  {
   "cell_type": "markdown",
   "id": "9b98a809",
   "metadata": {},
   "source": [
    "JRE comes with [java.lang.math](https://docs.oracle.com/javase/8/docs/api/java/lang/Math.html) included, but it often so happens that we require more sophisticated libraries.\n",
    "\n",
    "For special project requirements, we can \"extend\"/supplement JRE by importing libraries such as [org.apache.commons/commons-math3](org.apache.commons/commons-math3)."
   ]
  },
  {
   "cell_type": "markdown",
   "id": "9a21e546",
   "metadata": {},
   "source": [
    "## 3.1 Maven Build Tools"
   ]
  },
  {
   "cell_type": "markdown",
   "id": "87ce5e77",
   "metadata": {},
   "source": [
    "According to [https:\\//maven.apache.org](https://maven.apache.org/), Maven is a software project management and comprehension tool.\n",
    "\n",
    "Based on the concept of a project object model (POM), Maven can manage a project's build, reporting and documentation from a central piece of information."
   ]
  },
  {
   "cell_type": "markdown",
   "id": "3ac0e734",
   "metadata": {},
   "source": [
    "One of the cool cell magic commands provided by the IJava Kernel is <code>%%loadFromPOM</code>\n",
    "\n",
    "This cell magic allows us to load dependencies (i.e. libraries) into the notebook as if it were imported from a pom.xml file."
   ]
  },
  {
   "cell_type": "code",
   "execution_count": null,
   "id": "baa55c36",
   "metadata": {
    "vscode": {
     "languageId": "java"
    }
   },
   "outputs": [],
   "source": [
    "%%loadFromPOM\n",
    "\n",
    "<!-- The code below is simple xml markup to specify the project dependencies -->\n",
    "<!-- https://mvnrepository.com/artifact/org.apache.commons/commons-math3 -->\n",
    "<dependency>\n",
    "    <groupId>org.apache.commons</groupId>\n",
    "    <artifactId>commons-math3</artifactId>\n",
    "    <version>3.6.1</version>\n",
    "</dependency>\n",
    "\n",
    "<!-- By running this cell, the IJava Kernel will automatically download and include the library from the repository  -->"
   ]
  },
  {
   "cell_type": "markdown",
   "id": "7040221a",
   "metadata": {},
   "source": [
    "## 3.2 Examples"
   ]
  },
  {
   "cell_type": "markdown",
   "id": "513439c3",
   "metadata": {},
   "source": [
    "In this section we discuss some examples using the math3 library."
   ]
  },
  {
   "cell_type": "markdown",
   "id": "02440239",
   "metadata": {},
   "source": [
    "### 3.2.1 Example"
   ]
  },
  {
   "cell_type": "markdown",
   "id": "3db665d9",
   "metadata": {},
   "source": [
    "#### Prime Numbers"
   ]
  },
  {
   "cell_type": "code",
   "execution_count": null,
   "id": "ce5a90e1",
   "metadata": {
    "vscode": {
     "languageId": "java"
    }
   },
   "outputs": [],
   "source": [
    "import org.apache.commons.math3.primes.Primes;"
   ]
  },
  {
   "cell_type": "code",
   "execution_count": null,
   "id": "ecad961c",
   "metadata": {
    "vscode": {
     "languageId": "java"
    }
   },
   "outputs": [],
   "source": [
    "Primes.isPrime(2);"
   ]
  },
  {
   "cell_type": "code",
   "execution_count": null,
   "id": "bb05f81d",
   "metadata": {
    "vscode": {
     "languageId": "java"
    }
   },
   "outputs": [],
   "source": [
    "Primes.isPrime(4);"
   ]
  },
  {
   "cell_type": "markdown",
   "id": "9e78160e",
   "metadata": {},
   "source": [
    "### 3.2.2 Example"
   ]
  },
  {
   "cell_type": "markdown",
   "id": "08751e22",
   "metadata": {},
   "source": [
    "#### Complex Numebers"
   ]
  },
  {
   "cell_type": "code",
   "execution_count": null,
   "id": "b213ace0",
   "metadata": {
    "vscode": {
     "languageId": "java"
    }
   },
   "outputs": [],
   "source": [
    "import org.apache.commons.math3.complex.Complex;"
   ]
  },
  {
   "cell_type": "code",
   "execution_count": null,
   "id": "80554c31",
   "metadata": {
    "vscode": {
     "languageId": "java"
    }
   },
   "outputs": [],
   "source": [
    "Complex complex1 = new Complex(1.0, 5.0);\n",
    "Complex complex2 = new Complex(3.5, 7);"
   ]
  },
  {
   "cell_type": "code",
   "execution_count": null,
   "id": "c44c0076",
   "metadata": {
    "vscode": {
     "languageId": "java"
    }
   },
   "outputs": [],
   "source": [
    "complex1.add(complex2);"
   ]
  },
  {
   "cell_type": "code",
   "execution_count": null,
   "id": "c2479d17",
   "metadata": {
    "vscode": {
     "languageId": "java"
    }
   },
   "outputs": [],
   "source": [
    "complex1.conjugate();"
   ]
  },
  {
   "cell_type": "markdown",
   "id": "18f485f1",
   "metadata": {},
   "source": [
    "### 3.2.3 Example"
   ]
  },
  {
   "cell_type": "markdown",
   "id": "31013b01",
   "metadata": {},
   "source": [
    "#### Gamma Function"
   ]
  },
  {
   "cell_type": "markdown",
   "id": "01b46582",
   "metadata": {},
   "source": [
    "The Gamma function is an extension of the Factorial function to real and complex numbers."
   ]
  },
  {
   "cell_type": "markdown",
   "id": "7011e217",
   "metadata": {},
   "source": [
    "The Gamma function can be written mathematically as:\n",
    "\n",
    "$$\\Gamma(z) = \\int_{0}^{\\infty} t^{z-1} e^{-t} dt$$\n",
    "\n",
    "The relationship between the Gamma Function and the Factorial function is expressed by:\n",
    "\n",
    "$$ \\Gamma(n) = (n-1)! $$"
   ]
  },
  {
   "cell_type": "code",
   "execution_count": null,
   "id": "31b4db25",
   "metadata": {
    "vscode": {
     "languageId": "java"
    }
   },
   "outputs": [],
   "source": [
    "import org.apache.commons.math3.special.Gamma;"
   ]
  },
  {
   "cell_type": "code",
   "execution_count": null,
   "id": "1cfa0479",
   "metadata": {
    "vscode": {
     "languageId": "java"
    }
   },
   "outputs": [],
   "source": [
    "Gamma.gamma(4);\n",
    "// This is the same as 3!"
   ]
  },
  {
   "cell_type": "code",
   "execution_count": null,
   "id": "4abf0078",
   "metadata": {
    "vscode": {
     "languageId": "java"
    }
   },
   "outputs": [],
   "source": [
    "Gamma.gamma(2.5);\n",
    "// This illustrates that the Gamma function is in fact\n",
    "// an extension of the Factorial function, since we cannot compute 2.5!"
   ]
  },
  {
   "cell_type": "code",
   "execution_count": null,
   "id": "dbffa7b8",
   "metadata": {
    "vscode": {
     "languageId": "java"
    }
   },
   "outputs": [],
   "source": [
    "Gamma.gamma(Math.PI);"
   ]
  },
  {
   "cell_type": "markdown",
   "id": "56446a1d",
   "metadata": {},
   "source": [
    "### 3.2.4 Example"
   ]
  },
  {
   "cell_type": "markdown",
   "id": "d973ec3b",
   "metadata": {},
   "source": [
    "Often the int or long data type does not allocate enough memory for dealing with large number when working with a Factorial function.\n",
    "\n",
    "For this reason we can rely on the BigInteger library found at [com.google.guava/guava](https://mvnrepository.com/artifact/com.google.guava/guava)."
   ]
  },
  {
   "cell_type": "code",
   "execution_count": null,
   "id": "cae4bb0f",
   "metadata": {
    "vscode": {
     "languageId": "java"
    }
   },
   "outputs": [],
   "source": [
    "%%loadFromPOM\n",
    "\n",
    "<!-- https://mvnrepository.com/artifact/com.google.guava/guava -->\n",
    "<dependency>\n",
    "    <groupId>com.google.guava</groupId>\n",
    "    <artifactId>guava</artifactId>\n",
    "    <version>14.0</version>\n",
    "</dependency>"
   ]
  },
  {
   "cell_type": "code",
   "execution_count": null,
   "id": "ac478dd3",
   "metadata": {
    "vscode": {
     "languageId": "java"
    }
   },
   "outputs": [],
   "source": [
    "import java.math.*;\n",
    "import java.math.BigInteger;\n",
    "\n",
    "// This library allows working with really large numbers\n",
    "import com.google.common.math.BigIntegerMath;\n",
    "\n",
    "BigIntegerMath.factorial(10);"
   ]
  },
  {
   "cell_type": "code",
   "execution_count": null,
   "id": "1100c432",
   "metadata": {
    "vscode": {
     "languageId": "java"
    }
   },
   "outputs": [],
   "source": []
  },
  {
   "cell_type": "markdown",
   "id": "f3ad63be",
   "metadata": {},
   "source": [
    "# 4. XCharts"
   ]
  },
  {
   "cell_type": "markdown",
   "id": "f7874550",
   "metadata": {},
   "source": [
    "Another cool line magic provided by the IJava Kernel is <code>%maven</code>\n",
    "\n",
    "This is a short-hand syntax for <cod>%%loadFromPOM</code>\n",
    "\n",
    "For more information visit [ijava-binder](https://github.com/SpencerPark/ijava-binder/blob/master/3rdPartyDependency.ipynb)."
   ]
  },
  {
   "cell_type": "code",
   "execution_count": 1,
   "id": "5f25b9c3",
   "metadata": {
    "vscode": {
     "languageId": "java"
    }
   },
   "outputs": [],
   "source": [
    "%maven org.knowm.xchart:xchart:3.5.2\n",
    "\n",
    "import org.knowm.xchart.*;"
   ]
  },
  {
   "cell_type": "markdown",
   "id": "c3c974db",
   "metadata": {},
   "source": [
    "## 4.1 Examples"
   ]
  },
  {
   "cell_type": "markdown",
   "id": "83bfe437",
   "metadata": {},
   "source": [
    "In this section we provide some examples to get more comfortable with drawing charts using the XCharts library."
   ]
  },
  {
   "cell_type": "markdown",
   "id": "89a186ca",
   "metadata": {},
   "source": [
    "### 4.1.1 Example"
   ]
  },
  {
   "cell_type": "code",
   "execution_count": null,
   "id": "f39ac2e7",
   "metadata": {
    "vscode": {
     "languageId": "java"
    }
   },
   "outputs": [],
   "source": [
    "// Coordinates of a straight line\n",
    "double[] xData = new double[] { 0.0, 1.0, 2.0 }; // an array of doubles for the domain of function\n",
    "double[] yData = new double[] { 0.0, 1.0, 2.0 }; // an array of doubles for the domain of function\n",
    "\n",
    "// Create Chart\n",
    "XYChart chart = QuickChart.getChart(\"Sample Chart\", \"X\", \"Y\", \"y(x)\", xData, yData);\n",
    "                                   // Chart title  // Axes Labels  // Coordinate Arrays\n",
    "\n",
    "// Display output inline\n",
    "BitmapEncoder.getBufferedImage(chart);"
   ]
  },
  {
   "cell_type": "markdown",
   "id": "13c10c8b",
   "metadata": {},
   "source": [
    "We can also save the chart/graph produced above using the code below:"
   ]
  },
  {
   "cell_type": "code",
   "execution_count": null,
   "id": "a76d2b6c",
   "metadata": {
    "vscode": {
     "languageId": "java"
    }
   },
   "outputs": [],
   "source": [
    "BitmapEncoder.saveBitmap(chart, \"C:/Users/<Username>/Desktop/Sample_Chart\", BitmapEncoder.BitmapFormat.PNG);"
   ]
  },
  {
   "cell_type": "markdown",
   "id": "95274bf9",
   "metadata": {},
   "source": [
    "To save it in the directory of this notebook, we can proceed as before by providing an absolute path or passing as argument the name of the file we want to save it."
   ]
  },
  {
   "cell_type": "code",
   "execution_count": null,
   "id": "88b57ac8",
   "metadata": {
    "vscode": {
     "languageId": "java"
    }
   },
   "outputs": [],
   "source": [
    "BitmapEncoder.saveBitmap(chart, \"Sample_Chart\", BitmapEncoder.BitmapFormat.PNG);"
   ]
  },
  {
   "cell_type": "markdown",
   "id": "04178a11",
   "metadata": {},
   "source": [
    "We can also open the chart in a <code>SwingWrapper</code> Frame - More about Swing later ..."
   ]
  },
  {
   "cell_type": "code",
   "execution_count": null,
   "id": "d8cada78",
   "metadata": {
    "vscode": {
     "languageId": "java"
    }
   },
   "outputs": [],
   "source": [
    "new SwingWrapper(chart).displayChart();\n",
    "// Executing this cell will crash the Ijava Kernel"
   ]
  },
  {
   "cell_type": "markdown",
   "id": "9540dd68",
   "metadata": {},
   "source": [
    "### 4.1.2 Example"
   ]
  },
  {
   "cell_type": "markdown",
   "id": "fecf7f54",
   "metadata": {},
   "source": [
    "The example below illustrates how we can plot multiple graphs to the same set of axes."
   ]
  },
  {
   "cell_type": "code",
   "execution_count": null,
   "id": "df45e277",
   "metadata": {
    "vscode": {
     "languageId": "java"
    }
   },
   "outputs": [],
   "source": [
    "XYChart chart = new XYChartBuilder().width(600).height(400).title(\"Area Chart\").xAxisTitle(\"X\").yAxisTitle(\"Y\").build();\n",
    "\n",
    "// Series\n",
    "chart.addSeries(\"a\", new double[] { 0, 3, 5, 7, 9 }, new double[] { -3, 5, 9, 6, 5 });\n",
    "chart.addSeries(\"b\", new double[] { 0, 2, 4, 6, 9 }, new double[] { -1, 6, 4, 0, 4 });\n",
    "chart.addSeries(\"c\", new double[] { 0, 1, 3, 8, 9 }, new double[] { -2, -1, 1, 0, 1 });\n",
    "\n",
    "BitmapEncoder.getBufferedImage(chart);"
   ]
  },
  {
   "cell_type": "markdown",
   "id": "ed3bec17",
   "metadata": {},
   "source": [
    "### 4.1.3 Example"
   ]
  },
  {
   "cell_type": "markdown",
   "id": "05f1b11e",
   "metadata": {},
   "source": [
    "Let's declare the size of our arrays which will be used to store our coordinates."
   ]
  },
  {
   "cell_type": "code",
   "execution_count": null,
   "id": "901b7131",
   "metadata": {
    "vscode": {
     "languageId": "java"
    }
   },
   "outputs": [],
   "source": [
    "int size = 5;"
   ]
  },
  {
   "cell_type": "markdown",
   "id": "532ee3ad",
   "metadata": {},
   "source": [
    "Let's create some arrays of doubles."
   ]
  },
  {
   "cell_type": "code",
   "execution_count": null,
   "id": "af1cc605",
   "metadata": {
    "vscode": {
     "languageId": "java"
    }
   },
   "outputs": [],
   "source": [
    "double[] xData = new double[size]; // Domain\n",
    "double[] yData = new double[size]; // Range - function 1\n",
    "double[] zData = new double[size]; // Range - function 2\n",
    "double[] pData = new double[size]; // Range - function 3\n",
    "double[] qData = new double[size]; // Range - function 4\n",
    "double[] rData = new double[size]; // Range - function 5\n",
    "double[] sData = new double[size]; // Range - function 6"
   ]
  },
  {
   "cell_type": "markdown",
   "id": "8b8aeb69",
   "metadata": {},
   "source": [
    "Let's insert some function values iteratively into our arrays for the range of each, respectively:"
   ]
  },
  {
   "cell_type": "code",
   "execution_count": null,
   "id": "d5f7e91a",
   "metadata": {
    "vscode": {
     "languageId": "java"
    }
   },
   "outputs": [],
   "source": [
    "for (int i = 0; i < xData.length; i++) {\n",
    "    \n",
    "    xData[i] = i; // Store the x values in the array XData\n",
    "    \n",
    "    double x = xData[i]; // get x value to perform calculations on.\n",
    "    \n",
    "    yData[i] = 1; // Constant Function\n",
    "    zData[i] = x; // Linear Function\n",
    "    pData[i] = Math.pow(2, x); // Quadratic Function\n",
    "    qData[i] = Math.pow(x,2); // Exponential Function\n",
    "    rData[i] = Math.log(x+1); // Logarithmic Function\n",
    "    sData[i] = (x+1)*Math.log(x+1); // Linearithmic Function\n",
    "}"
   ]
  },
  {
   "cell_type": "markdown",
   "id": "28787184",
   "metadata": {},
   "source": [
    "Let's print out the arrays of data for each function, including the domain:"
   ]
  },
  {
   "cell_type": "code",
   "execution_count": null,
   "id": "41bea075",
   "metadata": {
    "vscode": {
     "languageId": "java"
    }
   },
   "outputs": [],
   "source": [
    "for (int i = 0; i < xData.length; i++) {\n",
    "    System.out.print(xData[i] + \", \"); // Print xData\n",
    "}"
   ]
  },
  {
   "cell_type": "code",
   "execution_count": null,
   "id": "1c55b632",
   "metadata": {
    "vscode": {
     "languageId": "java"
    }
   },
   "outputs": [],
   "source": [
    "for (int i = 0; i < xData.length; i++) {\n",
    "    System.out.print(yData[i] + \", \"); // Print yData\n",
    "}"
   ]
  },
  {
   "cell_type": "code",
   "execution_count": null,
   "id": "0c2a3b3a",
   "metadata": {
    "vscode": {
     "languageId": "java"
    }
   },
   "outputs": [],
   "source": [
    "for (int i = 0; i < xData.length; i++) {\n",
    "    System.out.print(zData[i] + \", \"); // Print zData\n",
    "}"
   ]
  },
  {
   "cell_type": "code",
   "execution_count": null,
   "id": "48525257",
   "metadata": {
    "vscode": {
     "languageId": "java"
    }
   },
   "outputs": [],
   "source": [
    "for (int i = 0; i < xData.length; i++) {\n",
    "    System.out.print(pData[i] + \", \"); // Print qData\n",
    "}"
   ]
  },
  {
   "cell_type": "code",
   "execution_count": null,
   "id": "356df77e",
   "metadata": {
    "vscode": {
     "languageId": "java"
    }
   },
   "outputs": [],
   "source": [
    "for (int i = 0; i < xData.length; i++) {\n",
    "    System.out.print(rData[i] + \", \"); // Print sData\n",
    "}"
   ]
  },
  {
   "cell_type": "code",
   "execution_count": null,
   "id": "d904460f",
   "metadata": {
    "vscode": {
     "languageId": "java"
    }
   },
   "outputs": [],
   "source": [
    "for (int i = 0; i < xData.length; i++) {\n",
    "    System.out.print(sData[i] + \", \"); // Print tData\n",
    "}"
   ]
  },
  {
   "cell_type": "markdown",
   "id": "ac8fe83e",
   "metadata": {},
   "source": [
    "Time to construct the graph:"
   ]
  },
  {
   "cell_type": "code",
   "execution_count": null,
   "id": "8528a710",
   "metadata": {
    "vscode": {
     "languageId": "java"
    }
   },
   "outputs": [],
   "source": [
    "XYChart chart = new XYChartBuilder().width(1200).height(1000).title(\"Big O\").xAxisTitle(\"x\").yAxisTitle(\"y\").build();\n",
    "// Notice that have changed the width & height attributes of the chart\n",
    "\n",
    "chart.addSeries(\"y=1\", xData, yData); // constant\n",
    "chart.addSeries(\"z=x\", xData, zData); // Linear\n",
    "chart.addSeries(\"p=x^2\", xData, pData); // Quadratic\n",
    "chart.addSeries(\"q=2^x\", xData, qData); // Exponential\n",
    "chart.addSeries(\"r=log(x)\", xData, rData); // Logarithmic\n",
    "chart.addSeries(\"s=xlog(x)\", xData, sData); // Linearithmic\n",
    "\n",
    "BitmapEncoder.getBufferedImage(chart);"
   ]
  },
  {
   "cell_type": "markdown",
   "id": "cbdd6069",
   "metadata": {},
   "source": [
    "Save the graph to the directory of this notebook:"
   ]
  },
  {
   "cell_type": "code",
   "execution_count": null,
   "id": "6c46eb00",
   "metadata": {
    "vscode": {
     "languageId": "java"
    }
   },
   "outputs": [],
   "source": [
    "BitmapEncoder.saveBitmap(chart, \"Combined_Sample_Chart\", BitmapEncoder.BitmapFormat.PNG);"
   ]
  },
  {
   "cell_type": "code",
   "execution_count": null,
   "id": "49538d50",
   "metadata": {
    "vscode": {
     "languageId": "java"
    }
   },
   "outputs": [],
   "source": []
  },
  {
   "cell_type": "markdown",
   "id": "c1d8dbd1",
   "metadata": {},
   "source": [
    "# 5. Packages, CLASSPATH and .jar Files"
   ]
  },
  {
   "cell_type": "markdown",
   "id": "b6565fe4",
   "metadata": {},
   "source": [
    "## 5.1 Packages"
   ]
  },
  {
   "cell_type": "markdown",
   "id": "fdab8633",
   "metadata": {},
   "source": [
    "In [1.1 Writing](#1.1-Writing) we learned how to write .java files from the IJava Interactive Notebook environment."
   ]
  },
  {
   "cell_type": "markdown",
   "id": "2ae2bda7",
   "metadata": {},
   "source": [
    "In the example below, we illustrate how to use packages in a .java file."
   ]
  },
  {
   "cell_type": "code",
   "execution_count": null,
   "id": "386af69d",
   "metadata": {
    "vscode": {
     "languageId": "java"
    }
   },
   "outputs": [],
   "source": [
    "String codeMain =\n",
    "    \"\"\"\n",
    "        // This is the name of the package\n",
    "        package com.package_name;\n",
    "\n",
    "        // Here are two dependencies that we have not yet created,\n",
    "        // which will be imported to this file for use in the Main class.\n",
    "        import com.sub.SubClass;\n",
    "        import com.alt.AltClass;\n",
    "\n",
    "        public class Main {\n",
    "            public static void main(String[] args) {\n",
    "                System.out.println(\"main()\");\n",
    "                \n",
    "                // To use the methods below imported from\n",
    "                // another class, we have to compile their\n",
    "                // respective .java files in which they\n",
    "                // are contained, as well.\n",
    "                \n",
    "                SubClass.subMethod(); // Static Method\n",
    "                AltClass.altMethod(); // Static Method\n",
    "            }\n",
    "        }\n",
    "    \"\"\""
   ]
  },
  {
   "cell_type": "code",
   "execution_count": null,
   "id": "342d7705",
   "metadata": {
    "vscode": {
     "languageId": "java"
    }
   },
   "outputs": [],
   "source": [
    "codeMain;"
   ]
  },
  {
   "cell_type": "code",
   "execution_count": null,
   "id": "cbafc983",
   "metadata": {
    "vscode": {
     "languageId": "java"
    }
   },
   "outputs": [],
   "source": [
    "String fullPath = System.getProperty(\"user.dir\")+ \"\\\\Main.java\";\n",
    "    \n",
    "FileWriter writer = new FileWriter(fullPath);\n",
    "\n",
    "writer.write(codeMain);\n",
    "writer.close();"
   ]
  },
  {
   "cell_type": "markdown",
   "id": "c0a1c75d",
   "metadata": {},
   "source": [
    "If we tried to compile the Main.java file now, we would get an error (provided that we use a <code>try-catch block</code> with the appropriate exceptions) because it cannot locate the dependencies `SubClass` & `AltClass`, since they don't yet exist."
   ]
  },
  {
   "cell_type": "markdown",
   "id": "39353b78",
   "metadata": {},
   "source": [
    "Below is the code that we will write to the `SubClass.java` file, one of the dependencies for the `Main.java` file:"
   ]
  },
  {
   "cell_type": "code",
   "execution_count": null,
   "id": "46bda916",
   "metadata": {
    "vscode": {
     "languageId": "java"
    }
   },
   "outputs": [],
   "source": [
    "String codeSubClass =\n",
    "    \"\"\"\n",
    "        // Package Name\n",
    "        package com.sub;\n",
    "\n",
    "        public class SubClass {\n",
    "\n",
    "            public static void subMethod() {\n",
    "\n",
    "                System.out.println(\"subMethod()\"); // Static Method\n",
    "\n",
    "            }\n",
    "\n",
    "        }\n",
    "    \"\"\";"
   ]
  },
  {
   "cell_type": "code",
   "execution_count": null,
   "id": "6597f9a2",
   "metadata": {
    "vscode": {
     "languageId": "java"
    }
   },
   "outputs": [],
   "source": [
    "codeSubClass;"
   ]
  },
  {
   "cell_type": "code",
   "execution_count": null,
   "id": "eadfcb67",
   "metadata": {
    "vscode": {
     "languageId": "java"
    }
   },
   "outputs": [],
   "source": [
    "String fullPath = System.getProperty(\"user.dir\")+ \"\\\\SubClass.java\";\n",
    "    \n",
    "FileWriter writer = new FileWriter(fullPath);\n",
    "\n",
    "writer.write(codeSubClass);\n",
    "writer.close();"
   ]
  },
  {
   "cell_type": "markdown",
   "id": "276a5377",
   "metadata": {},
   "source": [
    "Below is the code that we will write to the `AltClass.java` file, another dependency for the `Main.java` file:"
   ]
  },
  {
   "cell_type": "code",
   "execution_count": null,
   "id": "4889a10e",
   "metadata": {
    "vscode": {
     "languageId": "java"
    }
   },
   "outputs": [],
   "source": [
    "String codeAltClass =\n",
    "    \"\"\"\n",
    "        // Package Name\n",
    "        package com.alt;\n",
    "\n",
    "        public class AltClass {\n",
    "            \n",
    "            public static void altMethod() {\n",
    "\n",
    "                System.out.println(\"altMethod()\"); // Static Method\n",
    "\n",
    "            }\n",
    "\n",
    "        }\n",
    "    \"\"\";"
   ]
  },
  {
   "cell_type": "code",
   "execution_count": null,
   "id": "2e3bef4f",
   "metadata": {
    "vscode": {
     "languageId": "java"
    }
   },
   "outputs": [],
   "source": [
    "codeAltClass;"
   ]
  },
  {
   "cell_type": "code",
   "execution_count": null,
   "id": "6dc1e67d",
   "metadata": {
    "vscode": {
     "languageId": "java"
    }
   },
   "outputs": [],
   "source": [
    "String fullPath = System.getProperty(\"user.dir\")+ \"\\\\AltClass.java\";\n",
    "    \n",
    "FileWriter writer = new FileWriter(fullPath);\n",
    "\n",
    "writer.write(codeAltClass);\n",
    "writer.close();"
   ]
  },
  {
   "cell_type": "markdown",
   "id": "e7cae5a1",
   "metadata": {},
   "source": [
    "In the directory of your IJava Notebook, there should now be three files called `Main.java`, `SubClass.java` & `AltClass.java`"
   ]
  },
  {
   "cell_type": "markdown",
   "id": "7c699e8c",
   "metadata": {},
   "source": [
    "In [2.4 Compilation](#2.4-Compilation) we learned how to compiled .java files from the IJava Interactive Notebook environment."
   ]
  },
  {
   "cell_type": "markdown",
   "id": "7acff02b",
   "metadata": {},
   "source": [
    "Next, we will use the `-d` flag/switch with the `javac` command to specify the directory in which to compile each .java file created above. This should be done in a logical order, i.e. we cannot start with compiling `Main.java`, since it depends on both `Subclass.java` and `AltClass.java`. So the order in which we will compile these files, is listed below:\n",
    "\n",
    "1) <code>C:Current\\Directory\\> javac -d . SubClass.java </code></br>\n",
    "2) <code>C:Current\\Directory\\> javac -d . AltClass.java </code></br>\n",
    "3) <code>C:Current\\Directory\\> javac -d . Main.java     </code></br>\n",
    "\n",
    "The `.` stands for \"current directory\", but since this notebook lives in the \"current directory\" we don't need to change it.\n",
    "\n",
    "Each of these .java files will be placed in their respective packages. The folder structure will look like this:"
   ]
  },
  {
   "cell_type": "markdown",
   "id": "690d9985",
   "metadata": {},
   "source": [
    "```\n",
    "\n",
    "    '\n",
    "    '\n",
    "    \\__ com/\n",
    "        \\__ example/\n",
    "            \\__ alt/\n",
    "                \\__ AltClass.class ------------------ com.example.alt.AltClass contains altMethod() [static]\n",
    "            \\__ package_name/\n",
    "                \\__ Main.class ---------------------- com.example.package_name.Main contains main() method\n",
    "            \\__ sub/\n",
    "                \\__ SubClass.class ------------------ com.example.sub.SubClass contains SubMethod() [static]\n",
    "    \n",
    "```"
   ]
  },
  {
   "cell_type": "markdown",
   "id": "ad4e09fa",
   "metadata": {},
   "source": [
    "Let's put the above into practice:"
   ]
  },
  {
   "cell_type": "code",
   "execution_count": null,
   "id": "639e7f26",
   "metadata": {
    "vscode": {
     "languageId": "java"
    }
   },
   "outputs": [],
   "source": [
    "// Run a simple Windows shell command\n",
    "import java.io.BufferedReader;\n",
    "import java.io.IOException;\n",
    "import java.io.InputStreamReader;\n",
    "import java.util.ArrayList;\n",
    "import java.util.List;\n",
    "\n",
    "ProcessBuilder processBuilder = new ProcessBuilder();\n",
    "  \n",
    "List<String> builderList = new ArrayList<>();\n",
    "\n",
    "// Compile the SubClass.java file to SubClass.class in com.example.sub\n",
    "builderList.add(\"cmd.exe\");\n",
    "builderList.add(\"/C\");\n",
    "builderList.add(\"javac\");\n",
    "builderList.add(\"-d\");\n",
    "builderList.add(\".\");\n",
    "builderList.add(\"SubClass.java\");\n",
    "\n",
    "builderList.add(\"&&\"); // This allows us to run multiple commands\n",
    "\n",
    "// Compile the AltClass.java file to AltClass.class in com.example.alt\n",
    "builderList.add(\"cmd.exe\");\n",
    "builderList.add(\"/C\");\n",
    "builderList.add(\"javac\");\n",
    "builderList.add(\"-d\");\n",
    "builderList.add(\".\");\n",
    "builderList.add(\"AltClass.java\");\n",
    "\n",
    "builderList.add(\"&&\"); // This allows us to run multiple commands\n",
    "\n",
    "// Compile the Main.java file to Main.class in com.example.package_name\n",
    "builderList.add(\"cmd.exe\");\n",
    "builderList.add(\"/C\");\n",
    "builderList.add(\"javac\");\n",
    "builderList.add(\"-d\");\n",
    "builderList.add(\".\");\n",
    "builderList.add(\"Main.java\");\n",
    "\n",
    "// Wrap \"unsafe\" code in a try-catch block to catch and handle exceptions\n",
    "try {\n",
    "    processBuilder.command(builderList);\n",
    "    Process process = processBuilder.start();\n",
    "\n",
    "    InputStream inputStream = process.getInputStream();\n",
    "    InputStreamReader inputStreamReader = new InputStreamReader(inputStream);\n",
    "\n",
    "    BufferedReader reader = new BufferedReader(inputStreamReader);\n",
    "    String line = reader.readLine();\n",
    "\n",
    "    while (reader.ready()) {\n",
    "        System.out.println(reader.readLine());\n",
    "    }\n",
    "\n",
    "    int exitCode = process.waitFor();\n",
    "    System.out.println(\"\\nExited with error code : \" + exitCode);\n",
    "}\n",
    "catch (IOException e) {\n",
    "    e.printStackTrace();\n",
    "}\n",
    "catch (InterruptedException e) {\n",
    "    e.printStackTrace();\n",
    "}"
   ]
  },
  {
   "cell_type": "markdown",
   "id": "a1117bb4",
   "metadata": {},
   "source": [
    "If you receive 0 error code, it means that the compilation process was successful and you should see the \"com\" folder in the directory of this notebook."
   ]
  },
  {
   "cell_type": "markdown",
   "id": "275d6f53",
   "metadata": {},
   "source": [
    "## 5.2 CLASSPATH"
   ]
  },
  {
   "cell_type": "markdown",
   "id": "52414725",
   "metadata": {},
   "source": [
    "Below we discuss [CLASSPATH](https://docs.oracle.com/javase/tutorial/essential/environment/paths.html) environment variables."
   ]
  },
  {
   "cell_type": "markdown",
   "id": "35ed1cb3",
   "metadata": {},
   "source": [
    "The `CLASSPATH` variable is one way to tell applications, including the JDK tools, where to look for user classes.\n",
    "\n",
    "To run the program, we need to provide a `CLASSPATH` environment variable, i.e. the directory in which to find the \"com\" folder. This will tell the JVM to search for user classes starting at the specified directory. We can do so at runtime using the <code>-cp</code> flag/switch followed by the `CLASSPATH` (directory) environment variable and then the name of the class `com.example.package_name.Main` in which our program's entry point <code>main(String[] args)</code> can be found.\n",
    "\n",
    "The default value of the `CLASSPATH` is `.` meaning that only the current directory is searched. Using the shorthand <code>-cp</code> allows the `CLASSPATH` to be set individually for each application without affecting other applications."
   ]
  },
  {
   "cell_type": "markdown",
   "id": "6d9c2ffe",
   "metadata": {},
   "source": [
    "We will now run the program via a Windows shell session using the following command:\n",
    "\n"
   ]
  },
  {
   "cell_type": "markdown",
   "id": "5b875197",
   "metadata": {},
   "source": [
    "In [2.5 Running the Program](#2.5-Running-the-Program) we learned how to run the .class file from the IJava Interactive Notebook environment.\n",
    "\n",
    "We will now run the program via a Windows shell session by providing the classpath and entry point to our program:\n",
    "\n",
    "<code>C:\\Current\\Directory\\> java -cp . com.example.package_name.Main</code>"
   ]
  },
  {
   "cell_type": "code",
   "execution_count": null,
   "id": "81bdf018",
   "metadata": {
    "vscode": {
     "languageId": "java"
    }
   },
   "outputs": [],
   "source": [
    "import java.io.BufferedReader;\n",
    "import java.io.InputStreamReader;\n",
    "\n",
    "ProcessBuilder processBuilder = new ProcessBuilder();\n",
    "processBuilder.command(\n",
    "    \"cmd.exe\",\n",
    "    \"/C\",\n",
    "    \"java\",\n",
    "    \"-cp\", // The -cp switch/flag is used to set a new classpath environment variable during runtime\n",
    "    \".\", // The . means that we search for the appropriate classes starting from within the current directory\n",
    "    \"com.package_name.Main\" // This line provides the class in which to find the entry point of our program\n",
    ");\n",
    "Process process = processBuilder.start();\n",
    "\n",
    "InputStream inputStream = process.getInputStream();\n",
    "InputStreamReader inputStreamReader = new InputStreamReader(inputStream);\n",
    "\n",
    "BufferedReader reader = new BufferedReader(inputStreamReader);\n",
    "\n",
    "String line;\n",
    "while ((line = reader.readLine()) != null) {\n",
    "    System.out.println(line);\n",
    "}"
   ]
  },
  {
   "cell_type": "markdown",
   "id": "4483a250",
   "metadata": {},
   "source": [
    "If you find it hard to understand the above, open a new terminal window and enter the following command:\n",
    "\n",
    "<code>C:\\Any\\Directory\\> java -cp \"C:\\Absolute\\Path\\Pointing\\to\\the\\Directory\\of\\Notebook\\\" com.example.package_name.Main</code>\n",
    "\n",
    "This should produce the same output."
   ]
  },
  {
   "cell_type": "markdown",
   "id": "b9f8c049",
   "metadata": {},
   "source": [
    "To set the class path temporarily for a particular cmd shell session, we can use the following command:\n",
    "\n",
    "<code>C:\\Any\\Directory> set CLASSPATH=;/Path/point/to/com/Directory/;</code>\n",
    "\n",
    "To see the current settings of the classpath for a specific shell session, we can use the following command:\n",
    "\n",
    "<code>C:\\Any\\Directory> echo %CLASSPATH%;</code>\n",
    "\n",
    "Alternatively, we could just use <code>C:\\Any\\Directory> set CLASSPATH;</code> without updating it's value, i.e. leaving out <code>\"=;/Path/point/to/com/Directory/\"<c/ode>\n",
    "    \n",
    "The benefit of doing this, is that after setting the `CLASSPATH` for the shell session, we no longer need to specify the class path using the switch/flag `-cp` every time that we run the program from the <code>main()</code> method inside the `Main.class` file, unless the shell session expires. So we only need to write <code>C:\\Current\\Directory> java org.example.Main</code>"
   ]
  },
  {
   "cell_type": "code",
   "execution_count": null,
   "id": "bd9699af",
   "metadata": {
    "vscode": {
     "languageId": "java"
    }
   },
   "outputs": [],
   "source": []
  },
  {
   "cell_type": "markdown",
   "id": "813d62ff",
   "metadata": {},
   "source": [
    "## 5.3 .jar Files"
   ]
  },
  {
   "cell_type": "markdown",
   "id": "18ab6745",
   "metadata": {},
   "source": [
    "According to the [documentation](https://docs.oracle.com/javase/8/docs/technotes/guides/jar/jarGuide.html) JAR stands for Java ARchive. It's a file format based on the popular ZIP file format and is used for aggregating many files into one. Although JAR can be used as a general archiving tool, the primary motivation for its development was so that Java applets and their requisite components (.class files, images and sounds) can be downloaded to a browser in a single HTTP transaction, rather than opening a new connection for each piece. This greatly improves the speed with which an applet can be loaded onto a web page and begin functioning. The JAR format also supports compression, which reduces the size of the file and improves download time still further. Additionally, individual entries in a JAR file may be digitally signed by the applet author to authenticate their origin.\n",
    "\n",
    "JAR is:\n",
    "\n",
    "* the only archive format that is cross-platform\n",
    "* the only format that handles audio and image files as well as class files\n",
    "* backward-compatible with existing applet code\n",
    "* an open standard, fully extendable, and written in java\n",
    "* the preferred way to bundle the pieces of a java applet"
   ]
  },
  {
   "cell_type": "markdown",
   "id": "4adce9ba",
   "metadata": {},
   "source": [
    "Whenever we create our own .jar file from an existing Java project, we have to include a `META-INF/MANIFEST.MF` file having (at least) the one liner below, to make the .jar file executable.\n",
    "\n",
    "<code>Main-Class: com.package_name.Main</code>\n",
    "\n",
    "Where `com.package_name.Main` is the class holding the <code>public static void main(String[] args)</code> entry point."
   ]
  },
  {
   "cell_type": "markdown",
   "id": "43448030",
   "metadata": {},
   "source": [
    "This `META-INF/MANIFEST.MF` file will be created during the compilation process in a Windows shell session, using the following command:\n",
    "\n",
    "<code>C:\\Directory\\in\\which\\the\\\\\"com\\\"\\Folder\\Lives\\> jar cvfeP com.jar com.package_name.Main -C . com</code>"
   ]
  },
  {
   "cell_type": "markdown",
   "id": "9052bb34",
   "metadata": {},
   "source": [
    "The options `cvfeP` specified in the command above have the following meanings:\n",
    "\n",
    "* c - creates an archive (com) [JAR file]                                                                                </br>\n",
    "* v - sets the output to verbose (provides feedback of the compilation process)                                          </br>\n",
    "* f - allows us to specify the file name (com.jar)                                                                       </br>\n",
    "* e - allows us to specify the entry point for the program (com.package_name.Main)                                       </br>\n",
    "* P - preserve the package structure (com/example/[sub][alt][package_name]/[SubClass.class][AltClass.class][Main.class]) </br>"
   ]
  },
  {
   "cell_type": "code",
   "execution_count": null,
   "id": "64137e50",
   "metadata": {
    "vscode": {
     "languageId": "java"
    }
   },
   "outputs": [],
   "source": []
  },
  {
   "cell_type": "code",
   "execution_count": null,
   "id": "091e5d10",
   "metadata": {
    "vscode": {
     "languageId": "java"
    }
   },
   "outputs": [],
   "source": [
    "import java.io.BufferedReader;\n",
    "import java.io.InputStreamReader;\n",
    "\n",
    "ProcessBuilder processBuilder = new ProcessBuilder();\n",
    "processBuilder.command(\n",
    "    \"cmd.exe\",\n",
    "    \"/C\", \n",
    "    \"jar\",\n",
    "    \"cvfeP\", // as discussed above\n",
    "    \"com.jar\", // f - specify the file name\n",
    "    \"com.package_name.Main\", // e - specify the entry point of the program\n",
    "    \"-C\", // Allows us to specify the directory where to find the class files, followed by ...\n",
    "    \".\", // argument for -C, the . means \"current directory\"\n",
    "    \"com\" // archive [JAR file name]\n",
    ");\n",
    "\n",
    "Process process = processBuilder.start();\n",
    "\n",
    "InputStream inputStream = process.getInputStream();\n",
    "InputStreamReader inputStreamReader = new InputStreamReader(inputStream);\n",
    "\n",
    "BufferedReader reader = new BufferedReader(inputStreamReader);\n",
    "\n",
    "String line;\n",
    "while ((line = reader.readLine()) != null) {\n",
    "    System.out.println(line);\n",
    "}"
   ]
  },
  {
   "cell_type": "markdown",
   "id": "8e933fe9",
   "metadata": {},
   "source": [
    "Notice the above result - Verbose output of the compilation process."
   ]
  },
  {
   "cell_type": "markdown",
   "id": "9f8dbb2a",
   "metadata": {},
   "source": [
    "The output of the above code snippet should produce a com.jar file in the directory of your notebook."
   ]
  },
  {
   "cell_type": "markdown",
   "id": "d77aefa9",
   "metadata": {},
   "source": [
    "The output of the above code snippet should produce a com.jar file in the directory of your notebook.\n",
    "\n",
    "Further, we can inspect the .jar file by using the `-tf` flag/switch:\n",
    "\n",
    "<code>C:\\Directory\\in\\which\\the\\\\\"com\\\"\\Folder\\Lives\\> jar -tf com.jar com</code>"
   ]
  },
  {
   "cell_type": "code",
   "execution_count": null,
   "id": "2564908c",
   "metadata": {
    "vscode": {
     "languageId": "java"
    }
   },
   "outputs": [],
   "source": [
    "import java.io.BufferedReader;\n",
    "import java.io.InputStreamReader;\n",
    "\n",
    "ProcessBuilder processBuilder = new ProcessBuilder();\n",
    "processBuilder.command(\n",
    "    \"cmd.exe\",\n",
    "    \"/C\",\n",
    "    \"jar\",\n",
    "    \"-tf\",\n",
    "    \"com.jar\"\n",
    ");\n",
    "\n",
    "// https://docs.oracle.com/javase/tutorial/deployment/jar/view.html\n",
    "// The t option indicates that you want to view the table of contents of the JAR file.\n",
    "// The f option indicates that the JAR file whose contents are to be viewed is specified on the command line.\n",
    "// The com.jar argument is the path and name of the JAR file whose contents you want to view.\n",
    "\n",
    "Process process = processBuilder.start();\n",
    "\n",
    "InputStream inputStream = process.getInputStream();\n",
    "InputStreamReader inputStreamReader = new InputStreamReader(inputStream);\n",
    "\n",
    "BufferedReader reader = new BufferedReader(inputStreamReader);\n",
    "\n",
    "String line;\n",
    "while ((line = reader.readLine()) != null) {\n",
    "    System.out.println(line);\n",
    "}"
   ]
  },
  {
   "cell_type": "markdown",
   "id": "4b79f5bd",
   "metadata": {},
   "source": [
    "The above output is basically a tree view of the contents in the \"com\" folder, which holds all our project's resources in their respective subfolders.\n",
    "\n",
    "Notice that our `com.jar` file also includes `META-INF/MANIFEST.MF`"
   ]
  },
  {
   "cell_type": "markdown",
   "id": "bc03ad95",
   "metadata": {},
   "source": [
    "We can extract a copy of the `META-INF/MANIFEST.MF` file inside of the com.jar folder in the current directory by running the command:\n",
    "\n",
    "<code>C:\\Directory\\in\\which\\the\\\\\"com\\\"\\Folder\\Lives\\> jar -xf com.jar META-INF/MANIFEST.MF</code>"
   ]
  },
  {
   "cell_type": "code",
   "execution_count": null,
   "id": "622b4a8d",
   "metadata": {
    "vscode": {
     "languageId": "java"
    }
   },
   "outputs": [],
   "source": [
    "// Run a simple Windows shell command\n",
    "import java.io.BufferedReader;\n",
    "import java.io.IOException;\n",
    "import java.io.InputStreamReader;\n",
    "import java.util.ArrayList;\n",
    "import java.util.List;\n",
    "\n",
    "ProcessBuilder processBuilder = new ProcessBuilder();\n",
    "  \n",
    "List<String> builderList = new ArrayList<>();\n",
    "\n",
    "// add the commands to a list\n",
    "builderList.add(\"cmd.exe\");\n",
    "builderList.add(\"/C\");\n",
    "builderList.add(\"jar\");\n",
    "builderList.add(\"xf\");\n",
    "builderList.add(\"com.jar\");\n",
    "builderList.add(\"META-INF/MANIFEST.MF\");\n",
    "// By omitting the file name to extract,\n",
    "// the xf option will extract ALL files from the .jar\n",
    "\n",
    "// Wrap \"unsafe\" code in a try-catch block to catch and handle exceptions\n",
    "try {\n",
    "    processBuilder.command(builderList);\n",
    "    Process process = processBuilder.start();\n",
    "\n",
    "    InputStream inputStream = process.getInputStream();\n",
    "    InputStreamReader inputStreamReader = new InputStreamReader(inputStream);\n",
    "\n",
    "    BufferedReader reader = new BufferedReader(inputStreamReader);\n",
    "\n",
    "    String line;\n",
    "    while ((line = reader.readLine()) != null) {\n",
    "        System.out.println(line);\n",
    "    }\n",
    "\n",
    "    int exitCode = process.waitFor();\n",
    "    System.out.println(\"\\nExited with error code : \" + exitCode);\n",
    "}\n",
    "catch (IOException e) {\n",
    "    e.printStackTrace();\n",
    "}\n",
    "catch (InterruptedException e) {\n",
    "    e.printStackTrace();\n",
    "}"
   ]
  },
  {
   "cell_type": "markdown",
   "id": "7a1e19b9",
   "metadata": {},
   "source": [
    "Within the directory of the notebook, you should now see a `META_INF` folder.\n",
    "\n",
    "Inside the folder you will find a `MANIFEST.MF` file which can be viewed using notepad."
   ]
  },
  {
   "cell_type": "markdown",
   "id": "46b1a149",
   "metadata": {},
   "source": [
    "By running the code in the cell below, we can see the information of the `MANIFEST.MF` file."
   ]
  },
  {
   "cell_type": "code",
   "execution_count": null,
   "id": "ba5f2338",
   "metadata": {
    "vscode": {
     "languageId": "java"
    }
   },
   "outputs": [],
   "source": [
    "FileReader reader = new FileReader(\"META-INF/MANIFEST.MF\");\n",
    "    \n",
    "int data = reader.read();\n",
    "\n",
    "while (data != -1) {\n",
    "\n",
    "    System.out.print((char)data);\n",
    "\n",
    "    data = reader.read();\n",
    "}\n",
    "\n",
    "reader.close();"
   ]
  },
  {
   "cell_type": "markdown",
   "id": "d240a72f",
   "metadata": {},
   "source": [
    "Take note of the line stating `Main-Class: com.package_name.Main`\n",
    "\n",
    "If you edit the `MANIFEST.MF` file by hand, be sure to keep the line `Main-Class: com.package_name.Main` at the end, otherwise Java doesn't recognize it."
   ]
  },
  {
   "cell_type": "code",
   "execution_count": null,
   "id": "aa698bdb",
   "metadata": {
    "vscode": {
     "languageId": "java"
    }
   },
   "outputs": [],
   "source": []
  },
  {
   "cell_type": "markdown",
   "id": "ad226db4",
   "metadata": {},
   "source": [
    "We can now run the Java program inside the .jar file, using the following command:\n",
    "\n",
    "<code>C:\\Directory\\in\\which\\the\\\\\"com\\\"\\Folder\\Lives\\> jar -jar com.jar</code>"
   ]
  },
  {
   "cell_type": "code",
   "execution_count": null,
   "id": "53b346d5",
   "metadata": {
    "vscode": {
     "languageId": "java"
    }
   },
   "outputs": [],
   "source": [
    "// Run a simple Windows shell command\n",
    "import java.io.BufferedReader;\n",
    "import java.io.IOException;\n",
    "import java.io.InputStreamReader;\n",
    "import java.util.ArrayList;\n",
    "import java.util.List;\n",
    "\n",
    "ProcessBuilder processBuilder = new ProcessBuilder();\n",
    "  \n",
    "List<String> builderList = new ArrayList<>();\n",
    "\n",
    "// add the commands to a list\n",
    "builderList.add(\"cmd.exe\");\n",
    "builderList.add(\"/C\");\n",
    "builderList.add(\"java\");\n",
    "builderList.add(\"-jar\");\n",
    "builderList.add(\"com.jar\");\n",
    "\n",
    "// Wrap \"unsafe\" code in a try-catch block to catch and handle exceptions\n",
    "try {\n",
    "    processBuilder.command(builderList);\n",
    "    Process process = processBuilder.start();\n",
    "\n",
    "    InputStream inputStream = process.getInputStream();\n",
    "    InputStreamReader inputStreamReader = new InputStreamReader(inputStream);\n",
    "\n",
    "    BufferedReader reader = new BufferedReader(inputStreamReader);\n",
    "\n",
    "    String line;\n",
    "    while ((line = reader.readLine()) != null) {\n",
    "        System.out.println(line);\n",
    "    }\n",
    "\n",
    "    int exitCode = process.waitFor();\n",
    "    System.out.println(\"\\nExited with error code : \" + exitCode);\n",
    "}\n",
    "catch (IOException e) {\n",
    "    e.printStackTrace();\n",
    "}\n",
    "catch (InterruptedException e) {\n",
    "    e.printStackTrace();\n",
    "}"
   ]
  },
  {
   "cell_type": "markdown",
   "id": "13be6672",
   "metadata": {},
   "source": [
    "Here is a [Stack Exchange - Execute .jar File](https://stackoverflow.com/questions/9689793/cant-execute-jar-file-no-main-manifest-attribute) which may be helpful in certain circumstances."
   ]
  },
  {
   "cell_type": "code",
   "execution_count": null,
   "id": "9c043e10",
   "metadata": {
    "vscode": {
     "languageId": "java"
    }
   },
   "outputs": [],
   "source": []
  },
  {
   "cell_type": "markdown",
   "id": "296dfb99",
   "metadata": {},
   "source": [
    "### %jars\n",
    "\n",
    "To make our lives a lot easier, we can also import .jar files into the IJava Kernel when working with dependencies in our notebook. The documentation at [ijava-binder/3rdPartyDependency.ipynb](https://github.com/SpencerPark/ijava-binder/blob/master/3rdPartyDependency.ipynb) is wrong. It does not include quotation marks for declaring the path as a String object. Below we correct the mistake:\n",
    "\n",
    "The line magic %jars takes a space separated list of simple glob patterns for resolving jar files.\n",
    "\n",
    "For example we can add all the jars in /usr/share/java/ to the classpath and also display the found files.\n",
    "\n",
    "<code>List\\<String\\> added = %jars \"/usr/share/java/*.jar\"</code>\n",
    "\n",
    "<code>added;</code>"
   ]
  },
  {
   "cell_type": "code",
   "execution_count": null,
   "id": "db8f4703",
   "metadata": {
    "vscode": {
     "languageId": "java"
    }
   },
   "outputs": [],
   "source": []
  },
  {
   "cell_type": "code",
   "execution_count": 2,
   "id": "0bfe70e0",
   "metadata": {
    "vscode": {
     "languageId": "java"
    }
   },
   "outputs": [
    {
     "data": {
      "text/plain": [
       "C:\\Users\\Frank\\Documents\\Varsity College\\Sandton Campus\\Courses\\PROG6112(Java)\\Lectures"
      ]
     },
     "execution_count": 2,
     "metadata": {},
     "output_type": "execute_result"
    }
   ],
   "source": [
    "String path = System.getProperty(\"user.dir\");\n",
    "\n",
    "path;"
   ]
  },
  {
   "cell_type": "code",
   "execution_count": null,
   "id": "990f062e",
   "metadata": {
    "vscode": {
     "languageId": "java"
    }
   },
   "outputs": [],
   "source": []
  },
  {
   "cell_type": "code",
   "execution_count": 3,
   "id": "1fe7bc07",
   "metadata": {
    "vscode": {
     "languageId": "java"
    }
   },
   "outputs": [],
   "source": [
    "List<String> jars = %jars path + \"com.jar\""
   ]
  },
  {
   "cell_type": "code",
   "execution_count": 4,
   "id": "ae18e861",
   "metadata": {
    "vscode": {
     "languageId": "java"
    }
   },
   "outputs": [
    {
     "data": {
      "text/plain": [
       "[C:\\Users\\Frank\\Documents\\Varsity College\\Sandton Campus\\Courses\\PROG6112(Java)\\Lectures\\.\\com.jar]"
      ]
     },
     "execution_count": 4,
     "metadata": {},
     "output_type": "execute_result"
    }
   ],
   "source": [
    "jars"
   ]
  },
  {
   "cell_type": "code",
   "execution_count": null,
   "id": "d1dcc9d0",
   "metadata": {
    "vscode": {
     "languageId": "java"
    }
   },
   "outputs": [],
   "source": []
  },
  {
   "cell_type": "markdown",
   "id": "1bca07d4",
   "metadata": {},
   "source": [
    "If we write a program in the IJava Interactive Notebook that depends on this .jar file which we just imported, then we could run it right here in this environment.\n",
    "\n",
    "To demonstrate this, let's create a simple .java program which uses com.jar as a dependency."
   ]
  },
  {
   "cell_type": "code",
   "execution_count": null,
   "id": "23dcb80f",
   "metadata": {
    "vscode": {
     "languageId": "java"
    }
   },
   "outputs": [],
   "source": []
  },
  {
   "cell_type": "code",
   "execution_count": 5,
   "id": "1f8a4a6f",
   "metadata": {
    "vscode": {
     "languageId": "java"
    }
   },
   "outputs": [],
   "source": [
    "import com.package_name.Main;\n",
    "import com.sub.SubClass;\n",
    "import com.alt.AltClass;\n",
    "\n",
    "public class DemoClass {\n",
    "    public static void DemoMethod() {\n",
    "        System.out.println(\"DemoMethod\");\n",
    "\n",
    "        Main.main(new String[] {});\n",
    "\n",
    "        // Clearly this program depends on\n",
    "        // com.package_name.Main\n",
    "        // com.sub.SubClass\n",
    "        // com.alt.AltClass\n",
    "\n",
    "    }\n",
    "}"
   ]
  },
  {
   "cell_type": "code",
   "execution_count": 6,
   "id": "cd554a65",
   "metadata": {
    "vscode": {
     "languageId": "java"
    }
   },
   "outputs": [
    {
     "name": "stdout",
     "output_type": "stream",
     "text": [
      "DemoMethod\n",
      "main()\n",
      "subMethod()\n",
      "altMethod()\n"
     ]
    }
   ],
   "source": [
    "DemoClass.DemoMethod();"
   ]
  },
  {
   "cell_type": "markdown",
   "id": "eb285779",
   "metadata": {},
   "source": [
    "We will put the above technique into practice for the next section, when importing .jar files for working with [JavaFX](https://openjfx.io/), a GUI library."
   ]
  },
  {
   "cell_type": "markdown",
   "id": "2abd0839",
   "metadata": {},
   "source": [
    "# 6. GUI"
   ]
  },
  {
   "cell_type": "markdown",
   "id": "612dda46",
   "metadata": {},
   "source": [
    "In Java, there are two ways in which we can design GUI applications. The first of which is Swing and the other JavaFX. Both have their advantages and disadvantages. However, This course does not cover a module on JavaFX and only mention it for the eager developer."
   ]
  },
  {
   "cell_type": "markdown",
   "id": "a7a1af86",
   "metadata": {},
   "source": [
    "## 6.1 Swing"
   ]
  },
  {
   "cell_type": "markdown",
   "id": "5d8b4310",
   "metadata": {},
   "source": [
    "<code>javax</code> is the prefix used for a package of Java standard extensions.\n",
    "\n",
    "As reported by the documentation, [javax.swing](https://docs.oracle.com/javase%2F7%2Fdocs%2Fapi%2F%2F/javax/swing/package-summary.html) provides a set of \"lightweight\" (all-Java language) components that, to the maximum degree possible, work the same on all platforms (i.e. near-almost cross-platform)."
   ]
  },
  {
   "cell_type": "code",
   "execution_count": 6,
   "id": "b08ccb3e",
   "metadata": {
    "vscode": {
     "languageId": "java"
    }
   },
   "outputs": [
    {
     "name": "stdout",
     "output_type": "stream",
     "text": [
      "Executing the code in this cell will display a new javax.swing JFrame component\r\n"
     ]
    }
   ],
   "source": [
    "import javax.swing.JFrame; // Import JFrame class from the javax.swing package\n",
    "\n",
    "// Instantiate JFrame class by creating an object called \"frame\"\n",
    "JFrame frame = new JFrame(\"Title\"); // Set the frame title\n",
    "\n",
    "// Specify the dimensions of the JFrame\n",
    "frame.setSize(500,500);\n",
    "\n",
    "// Specify the function to be performed by clicking the X button of the JFrame\n",
    "frame.setDefaultCloseOperation(JFrame.EXIT_ON_CLOSE);\n",
    "\n",
    "// Centers the JFame in the middle of the screen\n",
    "frame.setLocationRelativeTo(null);\n",
    "\n",
    "// If this line is not included or is set to false, the JFrame will not display\n",
    "//frame.setVisible(true); // Alternatively, use frame.show();\n",
    "\n",
    "frame.show();\n",
    "\n",
    "System.out.println(\"Executing the code in this cell will display a new javax.swing JFrame component\");"
   ]
  },
  {
   "cell_type": "code",
   "execution_count": null,
   "id": "3b787420",
   "metadata": {
    "vscode": {
     "languageId": "java"
    }
   },
   "outputs": [],
   "source": []
  },
  {
   "cell_type": "markdown",
   "id": "75e76a51",
   "metadata": {},
   "source": [
    "## 6.2 JavaFX"
   ]
  },
  {
   "cell_type": "markdown",
   "id": "7d329724",
   "metadata": {},
   "source": [
    "[JavaFX](https://openjfx.io/)"
   ]
  },
  {
   "cell_type": "markdown",
   "id": "10798ad8",
   "metadata": {},
   "source": [
    "On my machine, JavaFX .jar files are located in the directory:\n",
    "\n",
    "<code>C:/Program Files/Java/javafx-sdk-20.0.1/lib/</code>"
   ]
  },
  {
   "cell_type": "markdown",
   "id": "c1710c74",
   "metadata": {},
   "source": [
    "To use JavaFX, we need to import the its .jar files."
   ]
  },
  {
   "cell_type": "code",
   "execution_count": 7,
   "id": "f9a0f70e",
   "metadata": {
    "vscode": {
     "languageId": "java"
    }
   },
   "outputs": [],
   "source": [
    "List<String> jars = %jars \"C:/Program Files/Java/javafx-sdk-20.0.1/lib/*.jar\""
   ]
  },
  {
   "cell_type": "code",
   "execution_count": 8,
   "id": "e61de215",
   "metadata": {
    "vscode": {
     "languageId": "java"
    }
   },
   "outputs": [
    {
     "data": {
      "text/plain": [
       "[C:\\Program Files\\Java\\javafx-sdk-20.0.1\\lib\\javafx-swt.jar, C:\\Program Files\\Java\\javafx-sdk-20.0.1\\lib\\javafx.base.jar, C:\\Program Files\\Java\\javafx-sdk-20.0.1\\lib\\javafx.controls.jar, C:\\Program Files\\Java\\javafx-sdk-20.0.1\\lib\\javafx.fxml.jar, C:\\Program Files\\Java\\javafx-sdk-20.0.1\\lib\\javafx.graphics.jar, C:\\Program Files\\Java\\javafx-sdk-20.0.1\\lib\\javafx.media.jar, C:\\Program Files\\Java\\javafx-sdk-20.0.1\\lib\\javafx.swing.jar, C:\\Program Files\\Java\\javafx-sdk-20.0.1\\lib\\javafx.web.jar]"
      ]
     },
     "execution_count": 8,
     "metadata": {},
     "output_type": "execute_result"
    }
   ],
   "source": [
    "jars;"
   ]
  },
  {
   "cell_type": "code",
   "execution_count": 9,
   "id": "f4e596e5",
   "metadata": {
    "vscode": {
     "languageId": "java"
    }
   },
   "outputs": [
    {
     "name": "stdout",
     "output_type": "stream",
     "text": [
      "C:\\Program Files\\Java\\javafx-sdk-20.0.1\\lib\\javafx-swt.jar\n",
      "C:\\Program Files\\Java\\javafx-sdk-20.0.1\\lib\\javafx.base.jar\n",
      "C:\\Program Files\\Java\\javafx-sdk-20.0.1\\lib\\javafx.controls.jar\n",
      "C:\\Program Files\\Java\\javafx-sdk-20.0.1\\lib\\javafx.fxml.jar\n",
      "C:\\Program Files\\Java\\javafx-sdk-20.0.1\\lib\\javafx.graphics.jar\n",
      "C:\\Program Files\\Java\\javafx-sdk-20.0.1\\lib\\javafx.media.jar\n",
      "C:\\Program Files\\Java\\javafx-sdk-20.0.1\\lib\\javafx.swing.jar\n",
      "C:\\Program Files\\Java\\javafx-sdk-20.0.1\\lib\\javafx.web.jar\n"
     ]
    }
   ],
   "source": [
    "// Above, we have stored the .jar files in a List of String variables.\n",
    "// In this cell we will iterate over the List, to display each String on a new line.\n",
    "for (int i = 0; i < jars.size(); i++){\n",
    "    System.out.println(jars.get(i));\n",
    "}"
   ]
  },
  {
   "cell_type": "code",
   "execution_count": null,
   "id": "6485760c",
   "metadata": {
    "vscode": {
     "languageId": "java"
    }
   },
   "outputs": [],
   "source": []
  },
  {
   "cell_type": "code",
   "execution_count": 10,
   "id": "b9035758",
   "metadata": {
    "vscode": {
     "languageId": "java"
    }
   },
   "outputs": [],
   "source": [
    "// Since we now have all the relevant .jar files stored in the %jar List,\n",
    "// we can import appropriate classes from packages inside the .jar files\n",
    "// for use in our project.\n",
    "\n",
    "import javafx.application.Application;\n",
    "import javafx.stage.Stage;\n",
    "import javafx.scene.Scene;\n",
    "import javafx.scene.layout.BorderPane;\n",
    "import javafx.application.Platform;\n",
    "\n",
    "public class App extends Application {\n",
    "    @Override\n",
    "    public void start(Stage primaryStage) {\n",
    "        try {\n",
    "\n",
    "            BorderPane root = new BorderPane();\n",
    "            Scene scene = new Scene(root,400,400);\n",
    "            \n",
    "            primaryStage.setScene(scene);\n",
    "            primaryStage.show();\n",
    "            \n",
    "            //this makes all stages close and the app exit when the main stage is closed\n",
    "            primaryStage.setOnCloseRequest(e -> Platform.exit());\n",
    "            \n",
    "        } catch(Exception e) {\n",
    "            e.printStackTrace();\n",
    "        }\n",
    "    }\n",
    "    \n",
    "    public static void main(String[] args) {\n",
    "        launch(args);\n",
    "    }\n",
    "}"
   ]
  },
  {
   "cell_type": "code",
   "execution_count": 12,
   "id": "7357092f",
   "metadata": {
    "vscode": {
     "languageId": "java"
    }
   },
   "outputs": [
    {
     "ename": "EvalException",
     "evalue": "Application launch must not be called more than once",
     "output_type": "error",
     "traceback": [
      "\u001b[1m\u001b[31m---------------------------------------------------------------------------\u001b[0m",
      "\u001b[1m\u001b[31mjava.lang.IllegalStateException: Application launch must not be called more than once\u001b[0m",
      "\u001b[1m\u001b[31m\tat com.sun.javafx.application.LauncherImpl.launchApplication(LauncherImpl.java:175)\u001b[0m",
      "\u001b[1m\u001b[31m\tat com.sun.javafx.application.LauncherImpl.launchApplication(LauncherImpl.java:153)\u001b[0m",
      "\u001b[1m\u001b[31m\tat javafx.application.Application.launch(Application.java:303)\u001b[0m",
      "\u001b[1m\u001b[31m\tat App.main(#34:1)\u001b[0m",
      "\u001b[1m\u001b[31m\tat .(#36:1)\u001b[0m"
     ]
    }
   ],
   "source": [
    "App.main(new String[] {});"
   ]
  },
  {
   "cell_type": "code",
   "execution_count": null,
   "metadata": {
    "vscode": {
     "languageId": "java"
    }
   },
   "outputs": [],
   "source": []
  },
  {
   "cell_type": "markdown",
   "id": "da5935cd",
   "metadata": {},
   "source": [
    "Documentation of java command line options:\n",
    "\n",
    "https://docs.oracle.com/en/java/javase/20/docs/specs/man/java.html"
   ]
  },
  {
   "cell_type": "code",
   "execution_count": null,
   "id": "cd7ee611",
   "metadata": {
    "vscode": {
     "languageId": "java"
    }
   },
   "outputs": [],
   "source": []
  },
  {
   "cell_type": "code",
   "execution_count": 17,
   "id": "0aebb093",
   "metadata": {
    "vscode": {
     "languageId": "java"
    }
   },
   "outputs": [],
   "source": [
    "public class FXApp extends Application {\n",
    "\n",
    "    @Override\n",
    "    public void start(Stage primaryStage) {\n",
    "        try {\n",
    "            Thread.sleep(1000);\n",
    "        } catch (InterruptedException exc) {\n",
    "            exc.printStackTrace();\n",
    "        }        \n",
    "    }\n",
    "}\n",
    "\n",
    "public class MainApp {\n",
    "    public static void main(String[] args) {\n",
    "        Application.launch(FXApp.class, args);\n",
    "    }\n",
    "}"
   ]
  },
  {
   "cell_type": "code",
   "execution_count": null,
   "id": "323cb16d",
   "metadata": {
    "vscode": {
     "languageId": "java"
    }
   },
   "outputs": [],
   "source": []
  },
  {
   "cell_type": "code",
   "execution_count": null,
   "id": "bd053073",
   "metadata": {
    "vscode": {
     "languageId": "java"
    }
   },
   "outputs": [],
   "source": []
  },
  {
   "cell_type": "code",
   "execution_count": null,
   "id": "e6856413",
   "metadata": {
    "vscode": {
     "languageId": "java"
    }
   },
   "outputs": [],
   "source": []
  }
 ],
 "metadata": {
  "kernelspec": {
   "display_name": "Java",
   "language": "java",
   "name": "java"
  },
  "language_info": {
   "codemirror_mode": "java",
   "file_extension": ".jshell",
   "mimetype": "text/x-java-source",
   "name": "Java",
   "pygments_lexer": "java",
   "version": "20.0.1+9-29"
  }
 },
 "nbformat": 4,
 "nbformat_minor": 5
}
